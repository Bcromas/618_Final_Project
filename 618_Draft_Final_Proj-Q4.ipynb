{
 "cells": [
  {
   "cell_type": "markdown",
   "metadata": {},
   "source": [
    "## Can we predict patient readmittance within 30 days based on some combination of type of admission, admission diagnosis, length of stay, age, gender, amount of bedside attention (e.g. patient is bathed), and occurence of sepsis? "
   ]
  },
  {
   "cell_type": "markdown",
   "metadata": {},
   "source": [
    "ML Method: Binary classification of given patient as either ‘Yes, will be readmitted within 30 days’ or ‘No, will not be readmitted within 30 days’. The data would be segmented by ADMISSIONS and PATIENTS records."
   ]
  },
  {
   "cell_type": "code",
   "execution_count": 2,
   "metadata": {},
   "outputs": [],
   "source": [
    "# Imports for DFs & connecting to Postgres\n",
    "import pandas as pd\n",
    "import psycopg2"
   ]
  },
  {
   "cell_type": "markdown",
   "metadata": {},
   "source": [
    "### Pull in Admissions data"
   ]
  },
  {
   "cell_type": "code",
   "execution_count": 3,
   "metadata": {},
   "outputs": [
    {
     "name": "stdout",
     "output_type": "stream",
     "text": [
      "OK\n"
     ]
    }
   ],
   "source": [
    "# Connect to Postgres & get all records for ADMISSIONS\n",
    "try:\n",
    "    con = psycopg2.connect(\"host='localhost' dbname='mimic' user='postgres' password='postgres'\")\n",
    "    cur = con.cursor()\n",
    "    cur.execute (\"\"\"SELECT * FROM mimiciii.admissions;\"\"\")\n",
    "    con.commit()\n",
    "    print('OK')\n",
    "except Exception as e:\n",
    "    print(e)  "
   ]
  },
  {
   "cell_type": "code",
   "execution_count": 4,
   "metadata": {},
   "outputs": [],
   "source": [
    "# Store ADMISSIONS result in var\n",
    "admissions_all = cur.fetchall()"
   ]
  },
  {
   "cell_type": "code",
   "execution_count": 5,
   "metadata": {},
   "outputs": [],
   "source": [
    "# Convert ADMISSIONS result to DF\n",
    "admissions_df = pd.DataFrame(admissions_all, columns = ['row_id','subject_id', 'hadm_id', 'admittime', 'dischtime', 'deathtime',\n",
    " 'admission_type', 'admission_location', 'discharge_location',\n",
    " 'insurance', 'language', 'religion', 'marital_status', 'ethnicity',\n",
    " 'edregtime', 'edouttime', 'diagnosis', 'hospital_expire_flag',\n",
    " 'has_chartevents_data'])"
   ]
  },
  {
   "cell_type": "code",
   "execution_count": 6,
   "metadata": {},
   "outputs": [],
   "source": [
    "# Create shortened DF of relevant cols\n",
    "admissions_short = admissions_df[['subject_id', 'hadm_id', 'admission_type', 'diagnosis', 'dischtime', 'admittime', 'hospital_expire_flag']]"
   ]
  },
  {
   "cell_type": "markdown",
   "metadata": {},
   "source": [
    "### Pull in Patients data"
   ]
  },
  {
   "cell_type": "code",
   "execution_count": null,
   "metadata": {},
   "outputs": [],
   "source": []
  }
 ],
 "metadata": {
  "kernelspec": {
   "display_name": "Python 3",
   "language": "python",
   "name": "python3"
  },
  "language_info": {
   "codemirror_mode": {
    "name": "ipython",
    "version": 3
   },
   "file_extension": ".py",
   "mimetype": "text/x-python",
   "name": "python",
   "nbconvert_exporter": "python",
   "pygments_lexer": "ipython3",
   "version": "3.6.6"
  }
 },
 "nbformat": 4,
 "nbformat_minor": 2
}
