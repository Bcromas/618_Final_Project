{
 "cells": [
  {
   "cell_type": "markdown",
   "metadata": {},
   "source": [
    "## Can we predict patient readmittance within 30 days based on some combination of type of admission, admission diagnosis, length of stay, age, gender, amount of bedside attention (e.g. patient is bathed), and occurence of sepsis? "
   ]
  },
  {
   "cell_type": "markdown",
   "metadata": {},
   "source": [
    "ML Method: Binary classification of given patient as either ‘Yes, will be readmitted within 30 days’ or ‘No, will not be readmitted within 30 days’. The data would be segmented by ADMISSIONS and PATIENTS records."
   ]
  },
  {
   "cell_type": "code",
   "execution_count": null,
   "metadata": {},
   "outputs": [],
   "source": []
  }
 ],
 "metadata": {
  "kernelspec": {
   "display_name": "Python 3",
   "language": "python",
   "name": "python3"
  },
  "language_info": {
   "codemirror_mode": {
    "name": "ipython",
    "version": 3
   },
   "file_extension": ".py",
   "mimetype": "text/x-python",
   "name": "python",
   "nbconvert_exporter": "python",
   "pygments_lexer": "ipython3",
   "version": "3.6.6"
  }
 },
 "nbformat": 4,
 "nbformat_minor": 2
}
