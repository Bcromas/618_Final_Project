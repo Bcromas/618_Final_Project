{
 "cells": [
  {
   "cell_type": "markdown",
   "metadata": {},
   "source": [
    "## What’s the relationship between length of stay and survival rate?"
   ]
  },
  {
   "cell_type": "markdown",
   "metadata": {},
   "source": [
    "EDA: JointGrid with a regplot for the linear regression model and a distplot for the distribution. The model would predict survival rate given length of stay. The ADMISSIONS data would be segmented by length of stay and whether the patient died at the hospital. Visualization: Seaborn. "
   ]
  },
  {
   "cell_type": "code",
   "execution_count": 217,
   "metadata": {},
   "outputs": [],
   "source": [
    "# Imports for DFs & connecting to Postgres\n",
    "import pandas as pd\n",
    "import psycopg2"
   ]
  },
  {
   "cell_type": "markdown",
   "metadata": {},
   "source": [
    "### Pull in Admissions data\n",
    "- Shape is (58976, 19)\n",
    "- Columns are 'row_id','subject_id', 'hadm_id', 'admittime', 'dischtime', 'deathtime', 'admission_type', 'admission_location', 'discharge_location', 'insurance', 'language', 'religion', 'marital_status', 'ethnicity', 'edregtime', 'edouttime', 'diagnosis', 'hospital_expire_flag', 'has_chartevents_data"
   ]
  },
  {
   "cell_type": "code",
   "execution_count": 205,
   "metadata": {},
   "outputs": [
    {
     "name": "stdout",
     "output_type": "stream",
     "text": [
      "OK\n"
     ]
    }
   ],
   "source": [
    "# Connect to Postgres & get all records for ADMISSIONS\n",
    "try:\n",
    "    con = psycopg2.connect(\"host='localhost' dbname='mimic' user='postgres' password='postgres'\")\n",
    "    cur = con.cursor()\n",
    "    cur.execute (\"\"\"SELECT * FROM mimiciii.admissions;\"\"\")\n",
    "    con.commit()\n",
    "    print('OK')\n",
    "except Exception as e:\n",
    "    print(e)  "
   ]
  },
  {
   "cell_type": "code",
   "execution_count": 206,
   "metadata": {},
   "outputs": [],
   "source": [
    "# Store ADMISSIONS result in var\n",
    "admissions_all = cur.fetchall()"
   ]
  },
  {
   "cell_type": "code",
   "execution_count": 207,
   "metadata": {},
   "outputs": [],
   "source": [
    "# Convert ADMISSIONS result to DF\n",
    "admissions_df = pd.DataFrame(admissions_all, columns = ['row_id','subject_id', 'hadm_id', 'admittime', 'dischtime', 'deathtime',\n",
    " 'admission_type', 'admission_location', 'discharge_location',\n",
    " 'insurance', 'language', 'religion', 'marital_status', 'ethnicity',\n",
    " 'edregtime', 'edouttime', 'diagnosis', 'hospital_expire_flag',\n",
    " 'has_chartevents_data'])"
   ]
  },
  {
   "cell_type": "code",
   "execution_count": 208,
   "metadata": {},
   "outputs": [],
   "source": [
    "# Create shortened DF of relevant cols; 'hospital_expire_flag' represents whether patient died at hospital during given admission\n",
    "admission_short = admissions_df[['subject_id', 'hadm_id', 'admission_type', 'hospital_expire_flag']]"
   ]
  },
  {
   "cell_type": "markdown",
   "metadata": {},
   "source": [
    "### Pull in ICUSTAY data\n",
    "- Shape is (61532, 12)\n",
    "- Columns are 'row_id', 'subject_id', 'hadm_id', 'icustay_id', 'dbsource', 'first_careunit', 'last_careunit', 'first_wardid', 'last_wardid', 'intime', 'outtime', 'los'"
   ]
  },
  {
   "cell_type": "code",
   "execution_count": 209,
   "metadata": {},
   "outputs": [
    {
     "name": "stdout",
     "output_type": "stream",
     "text": [
      "OK\n"
     ]
    }
   ],
   "source": [
    "# Connect to Postgres & get all records for ICUSTAYS\n",
    "try:\n",
    "    con = psycopg2.connect(\"host='localhost' dbname='mimic' user='postgres' password='postgres'\")\n",
    "    cur = con.cursor()\n",
    "    cur.execute (\"\"\"SELECT * FROM mimiciii.icustays;\"\"\")\n",
    "    con.commit()\n",
    "    print('OK')\n",
    "except Exception as e:\n",
    "    print(e)  "
   ]
  },
  {
   "cell_type": "code",
   "execution_count": 210,
   "metadata": {},
   "outputs": [],
   "source": [
    "# Store ICUSTAYS result in var\n",
    "icustays_all = cur.fetchall()"
   ]
  },
  {
   "cell_type": "code",
   "execution_count": 211,
   "metadata": {},
   "outputs": [],
   "source": [
    "# Convert ICUSTAYS result to DF\n",
    "icustays_df = pd.DataFrame(icustays_all, columns = ['row_id', 'subject_id', 'hadm_id', 'icustay_id', 'dbsource', 'first_careunit', 'last_careunit', 'first_wardid', 'last_wardid', 'intime', 'outtime', 'los'])"
   ]
  },
  {
   "cell_type": "code",
   "execution_count": 212,
   "metadata": {},
   "outputs": [],
   "source": [
    "# Create shortened DF of relevant cols; 'los' represents fractional days e.g. 2.0922 = 2 days, 2 hours, 12 minutes, & 46 seconds\n",
    "icu_short = icustays_df[['subject_id', 'hadm_id', 'icustay_id', 'los']]"
   ]
  },
  {
   "cell_type": "code",
   "execution_count": 213,
   "metadata": {},
   "outputs": [],
   "source": [
    "# Create merged DF, left join of admission_short to icu_short\n",
    "icu_adm_short = icu_short.merge(admission_short, how='left', on='hadm_id', suffixes=('_icu', '_adm'))"
   ]
  },
  {
   "cell_type": "code",
   "execution_count": 214,
   "metadata": {},
   "outputs": [],
   "source": [
    "# Group DF by admission, sum the length of stay in ICU, and capture whether patient died in hospital during the admission\n",
    "icu_adm_los = icu_adm_short.groupby('hadm_id').agg({'los':'sum','hospital_expire_flag':'max'})"
   ]
  },
  {
   "cell_type": "code",
   "execution_count": 215,
   "metadata": {},
   "outputs": [],
   "source": [
    "# Imports for generating plot\n",
    "import seaborn as sns\n",
    "from scipy import stats"
   ]
  },
  {
   "cell_type": "code",
   "execution_count": 216,
   "metadata": {},
   "outputs": [
    {
     "name": "stderr",
     "output_type": "stream",
     "text": [
      "C:\\Users\\bcrom\\Anaconda3\\lib\\site-packages\\seaborn\\axisgrid.py:1847: UserWarning: JointGrid annotation is deprecated and will be removed in a future release.\n",
      "  warnings.warn(UserWarning(msg))\n"
     ]
    },
    {
     "data": {
      "image/png": "[encoded data removed]",
      "text/plain": [
       "<Figure size 432x432 with 3 Axes>"
      ]
     },
     "metadata": {
      "needs_background": "light"
     },
     "output_type": "display_data"
    }
   ],
   "source": [
    "# Generate plot showing linear regression of 'hospital_expire_flag' given 'los' & the underlying distribution\n",
    "h = sns.JointGrid(data=icu_adm_los, x='los', y='hospital_expire_flag')\n",
    "h = h.plot(sns.regplot, sns.distplot)\n",
    "h = h.annotate(stats.pearsonr)"
   ]
  },
  {
   "cell_type": "markdown",
   "metadata": {},
   "source": [
    "## Interpretation"
   ]
  },
  {
   "cell_type": "markdown",
   "metadata": {},
   "source": [
    "**Based on the results above we can see the Pearson's Correlation Coefficient is weak at only 0.051 or 5.1%. This means there is a weak relationship between the cumulative length of stay in the ICU and dying in the hospital during a given admission. We can also see the p-value is extremely small at 1.1e-34. This means the results, while weak, are statistically significant. Our implied null hypothesis here is there's no relationship between cumulative length of stay in the ICU and a patient dying in the hospital during that admission. Given the results above we can reliably reject the null hypothesis. There does appear to be a weak relationship between length of stay and dying in the hospital during a given admission.**"
   ]
  },
  {
   "cell_type": "code",
   "execution_count": null,
   "metadata": {},
   "outputs": [],
   "source": []
  }
 ],
 "metadata": {
  "kernelspec": {
   "display_name": "Python 3",
   "language": "python",
   "name": "python3"
  },
  "language_info": {
   "codemirror_mode": {
    "name": "ipython",
    "version": 3
   },
   "file_extension": ".py",
   "mimetype": "text/x-python",
   "name": "python",
   "nbconvert_exporter": "python",
   "pygments_lexer": "ipython3",
   "version": "3.6.6"
  }
 },
 "nbformat": 4,
 "nbformat_minor": 2
}
