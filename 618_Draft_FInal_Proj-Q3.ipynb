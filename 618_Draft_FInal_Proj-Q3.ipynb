{
 "cells": [
  {
   "cell_type": "markdown",
   "metadata": {},
   "source": [
    "## What relationships exist between type of admission, admission diagnosis, length of stay, age, gender, readmittance within 30 days, amount of bedside attention (e.g. patient is bathed), and occurence of sepsis?"
   ]
  },
  {
   "cell_type": "markdown",
   "metadata": {},
   "source": [
    "EDA: Pairplot with every pairing of the eight attributes mentioned above. The data from ADMISSIONS, PATIENTS, and CHARTEVENTS would have to be merged and derived attributes added. The data would be primarily segmented by ADMISSIONS record. Visualization: Seaborn."
   ]
  },
  {
   "cell_type": "code",
   "execution_count": 240,
   "metadata": {},
   "outputs": [],
   "source": [
    "# Imports for DFs & connecting to Postgres\n",
    "import pandas as pd\n",
    "import psycopg2"
   ]
  },
  {
   "cell_type": "markdown",
   "metadata": {},
   "source": [
    "### Pull in Admissions data"
   ]
  },
  {
   "cell_type": "code",
   "execution_count": 241,
   "metadata": {},
   "outputs": [
    {
     "name": "stdout",
     "output_type": "stream",
     "text": [
      "OK\n"
     ]
    }
   ],
   "source": [
    "# Connect to Postgres & get all records for ADMISSIONS\n",
    "try:\n",
    "    con = psycopg2.connect(\"host='localhost' dbname='mimic' user='postgres' password='postgres'\")\n",
    "    cur = con.cursor()\n",
    "    cur.execute (\"\"\"SELECT * FROM mimiciii.admissions;\"\"\")\n",
    "    con.commit()\n",
    "    print('OK')\n",
    "except Exception as e:\n",
    "    print(e)  "
   ]
  },
  {
   "cell_type": "code",
   "execution_count": 242,
   "metadata": {},
   "outputs": [],
   "source": [
    "# Store ADMISSIONS result in var\n",
    "admissions_all = cur.fetchall()"
   ]
  },
  {
   "cell_type": "code",
   "execution_count": 243,
   "metadata": {},
   "outputs": [],
   "source": [
    "# Convert ADMISSIONS result to DF\n",
    "admissions_df = pd.DataFrame(admissions_all, columns = ['row_id','subject_id', 'hadm_id', 'admittime', 'dischtime', 'deathtime',\n",
    " 'admission_type', 'admission_location', 'discharge_location',\n",
    " 'insurance', 'language', 'religion', 'marital_status', 'ethnicity',\n",
    " 'edregtime', 'edouttime', 'diagnosis', 'hospital_expire_flag',\n",
    " 'has_chartevents_data'])"
   ]
  },
  {
   "cell_type": "code",
   "execution_count": 244,
   "metadata": {},
   "outputs": [],
   "source": [
    "# Create shortened DF of relevant cols\n",
    "admissions_short = admissions_df[['subject_id', 'hadm_id', 'admission_type', 'diagnosis', 'dischtime', 'admittime', 'hospital_expire_flag']]"
   ]
  },
  {
   "cell_type": "markdown",
   "metadata": {},
   "source": [
    "### Pull in Patients data"
   ]
  },
  {
   "cell_type": "code",
   "execution_count": 245,
   "metadata": {},
   "outputs": [
    {
     "name": "stdout",
     "output_type": "stream",
     "text": [
      "OK\n"
     ]
    }
   ],
   "source": [
    "# Connect to Postgres & get all records for PATIENTS\n",
    "try:\n",
    "    con = psycopg2.connect(\"host='localhost' dbname='mimic' user='postgres' password='postgres'\")\n",
    "    cur = con.cursor()\n",
    "    cur.execute (\"\"\"SELECT * FROM mimiciii.patients;\"\"\")\n",
    "    con.commit()\n",
    "    print('OK')\n",
    "except Exception as e:\n",
    "    print(e)"
   ]
  },
  {
   "cell_type": "code",
   "execution_count": 246,
   "metadata": {},
   "outputs": [],
   "source": [
    "# Store PATIENTS result in var\n",
    "patients_all = cur.fetchall()"
   ]
  },
  {
   "cell_type": "code",
   "execution_count": 247,
   "metadata": {},
   "outputs": [],
   "source": [
    "# Convert PATIENTS result to DF\n",
    "patients_df = pd.DataFrame(patients_all, columns = ['row_id', 'subject_id', 'gender', 'dob', 'dod', 'dod_hosp', 'dod_ssn', 'expire_flag'])"
   ]
  },
  {
   "cell_type": "code",
   "execution_count": 248,
   "metadata": {},
   "outputs": [],
   "source": [
    "# Create shortened DF of relevant cols\n",
    "patients_short = patients_df[['subject_id', 'gender', 'dob']]"
   ]
  },
  {
   "cell_type": "markdown",
   "metadata": {},
   "source": [
    "### Merge Patient details onto Admissions"
   ]
  },
  {
   "cell_type": "code",
   "execution_count": 249,
   "metadata": {},
   "outputs": [],
   "source": [
    "# Merge shortened Patients DF onto shortened Admissions DF using 'subject_id'\n",
    "adm_pat_merge = admissions_short.merge(patients_short, how='left', on='subject_id')"
   ]
  },
  {
   "cell_type": "code",
   "execution_count": 250,
   "metadata": {},
   "outputs": [],
   "source": [
    "# Create new col to indicate length of stay, type is Timedelta\n",
    "adm_pat_merge['adm_los'] = adm_pat_merge['dischtime']-adm_pat_merge['admittime']"
   ]
  },
  {
   "cell_type": "code",
   "execution_count": 251,
   "metadata": {},
   "outputs": [],
   "source": [
    "# Add new col that converts timedelta to seconds & then to hours\n",
    "adm_pat_merge['adm_los_hrs'] = adm_pat_merge['adm_los'].apply(lambda x: ((x.seconds)+(x.days*86400))/3600)"
   ]
  },
  {
   "cell_type": "code",
   "execution_count": 252,
   "metadata": {},
   "outputs": [
    {
     "data": {
      "text/html": [
       "<div>\n",
       "<style scoped>\n",
       "    .dataframe tbody tr th:only-of-type {\n",
       "        vertical-align: middle;\n",
       "    }\n",
       "\n",
       "    .dataframe tbody tr th {\n",
       "        vertical-align: top;\n",
       "    }\n",
       "\n",
       "    .dataframe thead th {\n",
       "        text-align: right;\n",
       "    }\n",
       "</style>\n",
       "<table border=\"1\" class=\"dataframe\">\n",
       "  <thead>\n",
       "    <tr style=\"text-align: right;\">\n",
       "      <th></th>\n",
       "      <th>subject_id</th>\n",
       "      <th>hadm_id</th>\n",
       "      <th>admission_type</th>\n",
       "      <th>diagnosis</th>\n",
       "      <th>dischtime</th>\n",
       "      <th>admittime</th>\n",
       "      <th>hospital_expire_flag</th>\n",
       "      <th>gender</th>\n",
       "      <th>dob</th>\n",
       "      <th>adm_los</th>\n",
       "      <th>adm_los_hrs</th>\n",
       "    </tr>\n",
       "  </thead>\n",
       "  <tbody>\n",
       "    <tr>\n",
       "      <th>0</th>\n",
       "      <td>22</td>\n",
       "      <td>165315</td>\n",
       "      <td>EMERGENCY</td>\n",
       "      <td>BENZODIAZEPINE OVERDOSE</td>\n",
       "      <td>2196-04-10 15:54:00</td>\n",
       "      <td>2196-04-09 12:26:00</td>\n",
       "      <td>0</td>\n",
       "      <td>F</td>\n",
       "      <td>2131-05-07</td>\n",
       "      <td>1 days 03:28:00</td>\n",
       "      <td>27.466667</td>\n",
       "    </tr>\n",
       "    <tr>\n",
       "      <th>1</th>\n",
       "      <td>23</td>\n",
       "      <td>152223</td>\n",
       "      <td>ELECTIVE</td>\n",
       "      <td>CORONARY ARTERY DISEASE\\CORONARY ARTERY BYPASS...</td>\n",
       "      <td>2153-09-08 19:10:00</td>\n",
       "      <td>2153-09-03 07:15:00</td>\n",
       "      <td>0</td>\n",
       "      <td>M</td>\n",
       "      <td>2082-07-17</td>\n",
       "      <td>5 days 11:55:00</td>\n",
       "      <td>131.916667</td>\n",
       "    </tr>\n",
       "    <tr>\n",
       "      <th>2</th>\n",
       "      <td>23</td>\n",
       "      <td>124321</td>\n",
       "      <td>EMERGENCY</td>\n",
       "      <td>BRAIN MASS</td>\n",
       "      <td>2157-10-25 14:00:00</td>\n",
       "      <td>2157-10-18 19:34:00</td>\n",
       "      <td>0</td>\n",
       "      <td>M</td>\n",
       "      <td>2082-07-17</td>\n",
       "      <td>6 days 18:26:00</td>\n",
       "      <td>162.433333</td>\n",
       "    </tr>\n",
       "    <tr>\n",
       "      <th>3</th>\n",
       "      <td>24</td>\n",
       "      <td>161859</td>\n",
       "      <td>EMERGENCY</td>\n",
       "      <td>INTERIOR MYOCARDIAL INFARCTION</td>\n",
       "      <td>2139-06-09 12:48:00</td>\n",
       "      <td>2139-06-06 16:14:00</td>\n",
       "      <td>0</td>\n",
       "      <td>M</td>\n",
       "      <td>2100-05-31</td>\n",
       "      <td>2 days 20:34:00</td>\n",
       "      <td>68.566667</td>\n",
       "    </tr>\n",
       "    <tr>\n",
       "      <th>4</th>\n",
       "      <td>25</td>\n",
       "      <td>129635</td>\n",
       "      <td>EMERGENCY</td>\n",
       "      <td>ACUTE CORONARY SYNDROME</td>\n",
       "      <td>2160-11-05 14:55:00</td>\n",
       "      <td>2160-11-02 02:06:00</td>\n",
       "      <td>0</td>\n",
       "      <td>M</td>\n",
       "      <td>2101-11-21</td>\n",
       "      <td>3 days 12:49:00</td>\n",
       "      <td>84.816667</td>\n",
       "    </tr>\n",
       "  </tbody>\n",
       "</table>\n",
       "</div>"
      ],
      "text/plain": [
       "   subject_id  hadm_id admission_type  \\\n",
       "0          22   165315      EMERGENCY   \n",
       "1          23   152223       ELECTIVE   \n",
       "2          23   124321      EMERGENCY   \n",
       "3          24   161859      EMERGENCY   \n",
       "4          25   129635      EMERGENCY   \n",
       "\n",
       "                                           diagnosis           dischtime  \\\n",
       "0                            BENZODIAZEPINE OVERDOSE 2196-04-10 15:54:00   \n",
       "1  CORONARY ARTERY DISEASE\\CORONARY ARTERY BYPASS... 2153-09-08 19:10:00   \n",
       "2                                         BRAIN MASS 2157-10-25 14:00:00   \n",
       "3                     INTERIOR MYOCARDIAL INFARCTION 2139-06-09 12:48:00   \n",
       "4                            ACUTE CORONARY SYNDROME 2160-11-05 14:55:00   \n",
       "\n",
       "            admittime  hospital_expire_flag gender        dob         adm_los  \\\n",
       "0 2196-04-09 12:26:00                     0      F 2131-05-07 1 days 03:28:00   \n",
       "1 2153-09-03 07:15:00                     0      M 2082-07-17 5 days 11:55:00   \n",
       "2 2157-10-18 19:34:00                     0      M 2082-07-17 6 days 18:26:00   \n",
       "3 2139-06-06 16:14:00                     0      M 2100-05-31 2 days 20:34:00   \n",
       "4 2160-11-02 02:06:00                     0      M 2101-11-21 3 days 12:49:00   \n",
       "\n",
       "   adm_los_hrs  \n",
       "0    27.466667  \n",
       "1   131.916667  \n",
       "2   162.433333  \n",
       "3    68.566667  \n",
       "4    84.816667  "
      ]
     },
     "execution_count": 252,
     "metadata": {},
     "output_type": "execute_result"
    }
   ],
   "source": [
    "adm_pat_merge.head()"
   ]
  },
  {
   "cell_type": "code",
   "execution_count": 253,
   "metadata": {},
   "outputs": [
    {
     "data": {
      "text/plain": [
       "58976"
      ]
     },
     "execution_count": 253,
     "metadata": {},
     "output_type": "execute_result"
    }
   ],
   "source": [
    "# adm_pat_merge['adm_los_hrs'] = adm_pat_merge[adm_pat_merge['adm_los_hrs'] > 0]\n",
    "len(adm_pat_merge)"
   ]
  },
  {
   "cell_type": "markdown",
   "metadata": {},
   "source": [
    "### Pull ICD9 codes for Sepsis"
   ]
  },
  {
   "cell_type": "code",
   "execution_count": 254,
   "metadata": {},
   "outputs": [
    {
     "name": "stdout",
     "output_type": "stream",
     "text": [
      "OK\n"
     ]
    }
   ],
   "source": [
    "# Connect to Postgres & get all d_icd_diagnoses where short or long title indicates 'sepsis' or 'septicemia'\n",
    "try:\n",
    "    con = psycopg2.connect(\"host='localhost' dbname='mimic' user='postgres' password='postgres'\")\n",
    "    cur = con.cursor()\n",
    "    cur.execute (\"\"\"SELECT icd9_code, short_title, long_title\n",
    "\tFROM mimiciii.d_icd_diagnoses\n",
    "\tWHERE long_title LIKE ANY(ARRAY['Sepsi%', 'Septi%','sepsi%', 'septi%', 'Severe sepsis', 'severe sepsis', 'Puerperal sep%', 'puerperal sep%']) OR\n",
    "\tshort_title LIKE ANY(ARRAY['Sepsi%', 'Septi%','sepsi%', 'septi%', 'Severe sepsis', 'severe sepsis', 'Puerperal sep%', 'puerperal sep%']);\"\"\")\n",
    "    con.commit()\n",
    "    print('OK')\n",
    "except Exception as e:\n",
    "    print(e)  "
   ]
  },
  {
   "cell_type": "code",
   "execution_count": 255,
   "metadata": {},
   "outputs": [],
   "source": [
    "# Store ICD9_CODE result in var\n",
    "sepsis_all = cur.fetchall()"
   ]
  },
  {
   "cell_type": "code",
   "execution_count": 256,
   "metadata": {},
   "outputs": [],
   "source": [
    "# Convert ICD9_CODE result to DF\n",
    "sepsis_df = pd.DataFrame(sepsis_all, columns = ['icd9_code', 'short_title', 'long_title'])"
   ]
  },
  {
   "cell_type": "code",
   "execution_count": 257,
   "metadata": {},
   "outputs": [],
   "source": [
    "# Get list of relevant ICD9 codes, just here for reference since it's pasted below\n",
    "sepsis_codes_list = sepsis_df['icd9_code'].to_list()\n",
    "# sepsis_codes_list"
   ]
  },
  {
   "cell_type": "markdown",
   "metadata": {},
   "source": [
    "### Pull Diagnoses ICD data to find admissions with sepsis"
   ]
  },
  {
   "cell_type": "code",
   "execution_count": 258,
   "metadata": {},
   "outputs": [
    {
     "name": "stdout",
     "output_type": "stream",
     "text": [
      "OK\n"
     ]
    }
   ],
   "source": [
    "# Connect to Postgres & get all admissions where a sepsis code was used\n",
    "try:\n",
    "    con = psycopg2.connect(\"host='localhost' dbname='mimic' user='postgres' password='postgres'\")\n",
    "    cur = con.cursor()\n",
    "    cur.execute (\"\"\"SELECT hadm_id, icd9_code\n",
    "\tFROM mimiciii.diagnoses_icd\n",
    "\tWHERE icd9_code = ANY(ARRAY['0383',\n",
    " '03840',\n",
    " '03841',\n",
    " '03842',\n",
    " '03843',\n",
    " '03844',\n",
    " '0388',\n",
    " '0389',\n",
    " '0202',\n",
    " '449',\n",
    " '41512',\n",
    " '42292',\n",
    " '65930',\n",
    " '65931',\n",
    " '65933',\n",
    " '77181',\n",
    " '99591',\n",
    " '99592',\n",
    " '78552',\n",
    " '67020',\n",
    " '67022',\n",
    " '67024',\n",
    " '67030',\n",
    " '67032',\n",
    " '67034']);\"\"\")\n",
    "    con.commit()\n",
    "    print('OK')\n",
    "except Exception as e:\n",
    "    print(e)"
   ]
  },
  {
   "cell_type": "code",
   "execution_count": 259,
   "metadata": {},
   "outputs": [],
   "source": [
    "# Store DIAGNOSES_ICD result in var\n",
    "adm_sepsis_all = cur.fetchall()"
   ]
  },
  {
   "cell_type": "code",
   "execution_count": 260,
   "metadata": {},
   "outputs": [],
   "source": [
    "# Convert DIAGNOSES_ICD result to DF\n",
    "adm_sepsis_df = pd.DataFrame(adm_sepsis_all, columns = ['hadm_id', 'icd9_code'])"
   ]
  },
  {
   "cell_type": "code",
   "execution_count": 261,
   "metadata": {},
   "outputs": [],
   "source": [
    "# Create DF that contains every admission where sepsis was diagnosed & tally number of those diagnoses for the given admission\n",
    "adm_sepsis_cnt = adm_sepsis_df.groupby(by='hadm_id').agg({'icd9_code':'count'})\n",
    "# Rename column to 'sepsis_count'\n",
    "adm_sepsis_cnt.rename(columns={'icd9_code':'sepsis_count'}, inplace=True)"
   ]
  },
  {
   "cell_type": "markdown",
   "metadata": {},
   "source": [
    "### Merge count of sepsis into admission-patient DF"
   ]
  },
  {
   "cell_type": "code",
   "execution_count": 262,
   "metadata": {},
   "outputs": [],
   "source": [
    "# Create new merged DF with admissions, patient, & sepsis count data\n",
    "adm_pat_sep = adm_pat_merge.merge(adm_sepsis_cnt, how='left', on='hadm_id')\n",
    "# Convert NaNs in 'sepsis_count' to zeroes\n",
    "adm_pat_sep['sepsis_count'].fillna(value=0, inplace=True)"
   ]
  },
  {
   "cell_type": "code",
   "execution_count": 263,
   "metadata": {},
   "outputs": [],
   "source": [
    "# Add col converting gender to 0/1\n",
    "adm_pat_sep['gender_binary'] = adm_pat_sep['gender'].apply(lambda x: 1 if x=='M' else 0)"
   ]
  },
  {
   "cell_type": "code",
   "execution_count": 264,
   "metadata": {},
   "outputs": [],
   "source": [
    "# Add col flagging admission type = emergency\n",
    "adm_pat_sep['emergency_flag'] = adm_pat_sep['admission_type'].apply(lambda x: 1 if x == 'EMERGENCY' else 0)"
   ]
  },
  {
   "cell_type": "code",
   "execution_count": 265,
   "metadata": {},
   "outputs": [],
   "source": [
    "# Add col flagging admission type = elective\n",
    "adm_pat_sep['elective_flag'] = adm_pat_sep['admission_type'].apply(lambda x: 1 if x == 'ELECTIVE' else 0)"
   ]
  },
  {
   "cell_type": "markdown",
   "metadata": {},
   "source": [
    "### Pull D_ITEMS data related to \"bedside patient care\""
   ]
  },
  {
   "cell_type": "code",
   "execution_count": 266,
   "metadata": {},
   "outputs": [
    {
     "name": "stdout",
     "output_type": "stream",
     "text": [
      "OK\n"
     ]
    }
   ],
   "source": [
    "# Connect to Postgres & get all d_items where label indicates \"bedside patient care\"\n",
    "try:\n",
    "    con = psycopg2.connect(\"host='localhost' dbname='mimic' user='postgres' password='postgres'\")\n",
    "    cur = con.cursor()\n",
    "    cur.execute (\"\"\"SELECT itemid, label\n",
    "\tFROM mimiciii.d_items\n",
    "\tWHERE label LIKE ANY(ARRAY['Dressing','Dressing Applied%','Dressing Change','Dressing change','catheter reposi%',\n",
    "    'Catheter','bath%','show%','shav%', 'teeth%', 'bedbath', 'bed/bath%','activi%', 'Food%']);\"\"\")\n",
    "    con.commit()\n",
    "    print('OK')\n",
    "except Exception as e:\n",
    "    print(e)  "
   ]
  },
  {
   "cell_type": "code",
   "execution_count": 267,
   "metadata": {},
   "outputs": [],
   "source": [
    "# Store D_ITEMS result in var\n",
    "items_care_all = cur.fetchall()"
   ]
  },
  {
   "cell_type": "code",
   "execution_count": 268,
   "metadata": {},
   "outputs": [],
   "source": [
    "# Convert D_ITEMS result to DF\n",
    "items_care_df = pd.DataFrame(items_care_all, columns = ['itemid', 'label'])"
   ]
  },
  {
   "cell_type": "code",
   "execution_count": 269,
   "metadata": {},
   "outputs": [],
   "source": [
    "# Get list of relevant itemids, just here for reference since it's pasted below\n",
    "items_care_list = items_care_df['itemid'].to_list()"
   ]
  },
  {
   "cell_type": "markdown",
   "metadata": {},
   "source": [
    "### Get all \"bedside patient care\" entries from CHARTEVENTS"
   ]
  },
  {
   "cell_type": "code",
   "execution_count": 270,
   "metadata": {},
   "outputs": [],
   "source": [
    "# # Connect to Postgres & get all chartevents where itemid matches those from \"bedside patient care\" list\n",
    "# try:\n",
    "#     con = psycopg2.connect(\"host='localhost' dbname='mimic' user='postgres' password='postgres'\")\n",
    "#     cur = con.cursor()\n",
    "#     cur.execute (\"\"\"SELECT subject_id, hadm_id, icustay_id, itemid\n",
    "# \tFROM mimiciii.chartevents\n",
    "# \tWHERE itemid = ANY(ARRAY[1053,\n",
    "#  1063,\n",
    "#  1066,\n",
    "#  1202,\n",
    "#  5548,\n",
    "#  7896,\n",
    "#  4605,\n",
    "#  1382,\n",
    "#  3058,\n",
    "#  5678,\n",
    "#  3013,\n",
    "#  3014,\n",
    "#  6269,\n",
    "#  7652,\n",
    "#  44555,\n",
    "#  228482,\n",
    "#  227955]);\"\"\")\n",
    "#     con.commit()\n",
    "#     print('OK')\n",
    "# except Exception as e:\n",
    "#     print(e) "
   ]
  },
  {
   "cell_type": "code",
   "execution_count": 271,
   "metadata": {},
   "outputs": [],
   "source": [
    "# # Store CHARTEVENTS result in var\n",
    "# chart_care_all = cur.fetchall()"
   ]
  },
  {
   "cell_type": "code",
   "execution_count": 272,
   "metadata": {},
   "outputs": [],
   "source": [
    "# chart_care_all"
   ]
  },
  {
   "cell_type": "markdown",
   "metadata": {},
   "source": [
    "### Not finding any \"bedside patient care\" entries in Chartevents, strange."
   ]
  },
  {
   "cell_type": "markdown",
   "metadata": {},
   "source": [
    "### Get count of chartevents per admission"
   ]
  },
  {
   "cell_type": "code",
   "execution_count": 273,
   "metadata": {},
   "outputs": [
    {
     "name": "stdout",
     "output_type": "stream",
     "text": [
      "OK\n"
     ]
    }
   ],
   "source": [
    "# Connect to Postgres & get counts of CHARTEVENTS for each admission record\n",
    "try:\n",
    "    con = psycopg2.connect(\"host='localhost' dbname='mimic' user='postgres' password='postgres'\")\n",
    "    cur = con.cursor()\n",
    "    cur.execute (\"\"\"SELECT hadm_id,  count(hadm_id)\n",
    "\tFROM mimiciii.chartevents\n",
    "\tGROUP BY chartevents.hadm_id;\"\"\")\n",
    "    con.commit()\n",
    "    print('OK')\n",
    "except Exception as e:\n",
    "    print(e)"
   ]
  },
  {
   "cell_type": "code",
   "execution_count": 274,
   "metadata": {},
   "outputs": [],
   "source": [
    "# Store CHARTEVENTS result in var\n",
    "chartevents_count_all = cur.fetchall()"
   ]
  },
  {
   "cell_type": "code",
   "execution_count": 275,
   "metadata": {},
   "outputs": [],
   "source": [
    "# Convert CHARTEVENTS result to DF\n",
    "chartevents_count_df = pd.DataFrame(chartevents_count_all, columns = ['hadm_id', 'chartevents_count'])"
   ]
  },
  {
   "cell_type": "code",
   "execution_count": 276,
   "metadata": {},
   "outputs": [],
   "source": [
    "# Merge chartevents DF into existing DF, create new DF\n",
    "adm_pat_sep_char = adm_pat_sep.merge(chartevents_count_df, how='left', on='hadm_id')\n",
    "adm_pat_sep_char['chartevents_count'].fillna(value=0, inplace=True)"
   ]
  },
  {
   "cell_type": "markdown",
   "metadata": {},
   "source": [
    "### Get 30 day readmits"
   ]
  },
  {
   "cell_type": "code",
   "execution_count": 277,
   "metadata": {},
   "outputs": [
    {
     "name": "stdout",
     "output_type": "stream",
     "text": [
      "OK\n"
     ]
    }
   ],
   "source": [
    "# Connect to Postgres & get all records for ADMISSIONS with just subject_id & admittime\n",
    "try:\n",
    "    con = psycopg2.connect(\"host='localhost' dbname='mimic' user='postgres' password='postgres'\")\n",
    "    cur = con.cursor()\n",
    "    cur.execute (\"\"\"SELECT subject_id, admittime FROM mimiciii.admissions;\"\"\")\n",
    "    con.commit()\n",
    "    print('OK')\n",
    "except Exception as e:\n",
    "    print(e) "
   ]
  },
  {
   "cell_type": "code",
   "execution_count": 278,
   "metadata": {},
   "outputs": [],
   "source": [
    "# Store ADMISSIONS result in var\n",
    "adm_subj_all = cur.fetchall()"
   ]
  },
  {
   "cell_type": "code",
   "execution_count": 279,
   "metadata": {},
   "outputs": [],
   "source": [
    "# Create dict where key is subject_id and value is a list of all their admittimes\n",
    "from collections import defaultdict \n",
    "subj_admitt_dict = defaultdict(list)\n",
    "for k, v in adm_subj_all:\n",
    "    subj_admitt_dict[k].append(v)"
   ]
  },
  {
   "cell_type": "code",
   "execution_count": 280,
   "metadata": {},
   "outputs": [
    {
     "name": "stdout",
     "output_type": "stream",
     "text": [
      "OK\n"
     ]
    }
   ],
   "source": [
    "# Connect to Postgres & get all records for ADMISSIONS\n",
    "try:\n",
    "    con = psycopg2.connect(\"host='localhost' dbname='mimic' user='postgres' password='postgres'\")\n",
    "    cur = con.cursor()\n",
    "    cur.execute (\"\"\"SELECT subject_id, hadm_id, admittime FROM mimiciii.admissions;\"\"\")\n",
    "    con.commit()\n",
    "    print('OK')\n",
    "except Exception as e:\n",
    "    print(e) "
   ]
  },
  {
   "cell_type": "code",
   "execution_count": 281,
   "metadata": {},
   "outputs": [],
   "source": [
    "# Store ADMISSIONS result in var\n",
    "admissions_id_all = cur.fetchall()"
   ]
  },
  {
   "cell_type": "code",
   "execution_count": 282,
   "metadata": {},
   "outputs": [],
   "source": [
    "import datetime"
   ]
  },
  {
   "cell_type": "code",
   "execution_count": 283,
   "metadata": {},
   "outputs": [],
   "source": [
    "#Pythonic way of getting 30 day readmits\n",
    "hadm_readmits = []\n",
    "for i in admissions_id_all:\n",
    "    subject_id = i[0]\n",
    "    hadm_id = i[1]\n",
    "    admittime = i[2]\n",
    "    \n",
    "    other_admits = subj_admitt_dict[subject_id]\n",
    "    \n",
    "    thirty_days = datetime.timedelta(days=30)\n",
    "    one_min = datetime.timedelta(minutes=1)\n",
    "    \n",
    "    if len(other_admits) > 1:\n",
    "        for j in other_admits:\n",
    "            diff = j - admittime\n",
    "            if diff >= one_min and diff <= thirty_days:\n",
    "                hadm_readmits.append(hadm_id)"
   ]
  },
  {
   "cell_type": "code",
   "execution_count": 284,
   "metadata": {},
   "outputs": [],
   "source": [
    "# Convert 30 day readmits to DF\n",
    "hadm_readmits_df = pd.DataFrame(hadm_readmits, columns = ['hadm_id'])\n",
    "hadm_readmits_df['readmit_30'] = 1"
   ]
  },
  {
   "cell_type": "code",
   "execution_count": 285,
   "metadata": {},
   "outputs": [],
   "source": [
    "# Merge 30 day readmits to existing DF & create new DF for pair plot\n",
    "pairplot_df = adm_pat_sep_char.merge(hadm_readmits_df, how='left', on='hadm_id')\n",
    "pairplot_df['readmit_30'].fillna(value=0, inplace=True)"
   ]
  },
  {
   "cell_type": "code",
   "execution_count": 286,
   "metadata": {},
   "outputs": [],
   "source": [
    "pairplot_df.drop(columns=['subject_id', 'hadm_id', 'diagnosis', 'admittime', 'dischtime', 'gender', 'dob', 'adm_los'], inplace= True)"
   ]
  },
  {
   "cell_type": "code",
   "execution_count": 288,
   "metadata": {},
   "outputs": [],
   "source": [
    "# Find & remove records with negative los\n",
    "neg_los = pairplot_df[pairplot_df['adm_los_hrs']<0].index\n",
    "pairplot_df.drop(pairplot_df.index[neg_los], inplace=True)"
   ]
  },
  {
   "cell_type": "code",
   "execution_count": 290,
   "metadata": {},
   "outputs": [],
   "source": [
    "pairplot_df_test = pairplot_df[['hospital_expire_flag', 'adm_los_hrs', 'sepsis_count', 'gender_binary', 'emergency_flag', 'elective_flag', 'chartevents_count', 'readmit_30']]"
   ]
  },
  {
   "cell_type": "markdown",
   "metadata": {},
   "source": [
    "### Create pairplot of vars"
   ]
  },
  {
   "cell_type": "code",
   "execution_count": 291,
   "metadata": {},
   "outputs": [],
   "source": [
    "import seaborn as sns"
   ]
  },
  {
   "cell_type": "code",
   "execution_count": 292,
   "metadata": {},
   "outputs": [
    {
     "data": {
      "image/png": "[encoded data removed]",
      "text/plain": [
       "<Figure size 1440x1440 with 72 Axes>"
      ]
     },
     "metadata": {
      "needs_background": "light"
     },
     "output_type": "display_data"
    }
   ],
   "source": [
    "# Generate pair plot\n",
    "sns.pairplot(pairplot_df_test, kind=\"reg\");"
   ]
  },
  {
   "cell_type": "markdown",
   "metadata": {},
   "source": [
    "## Can we predict patient readmittance within 30 days based on some combination of type of admission, admission diagnosis, length of stay, age, gender, amount of bedside attention (e.g. patient is bathed), and occurence of sepsis? "
   ]
  },
  {
   "cell_type": "markdown",
   "metadata": {},
   "source": [
    "ML Method: Binary classification of given patient as either ‘Yes, will be readmitted within 30 days’ or ‘No, will not be readmitted within 30 days’. The data would be segmented by ADMISSIONS and PATIENTS records."
   ]
  },
  {
   "cell_type": "code",
   "execution_count": 294,
   "metadata": {},
   "outputs": [
    {
     "data": {
      "text/html": [
       "<div>\n",
       "<style scoped>\n",
       "    .dataframe tbody tr th:only-of-type {\n",
       "        vertical-align: middle;\n",
       "    }\n",
       "\n",
       "    .dataframe tbody tr th {\n",
       "        vertical-align: top;\n",
       "    }\n",
       "\n",
       "    .dataframe thead th {\n",
       "        text-align: right;\n",
       "    }\n",
       "</style>\n",
       "<table border=\"1\" class=\"dataframe\">\n",
       "  <thead>\n",
       "    <tr style=\"text-align: right;\">\n",
       "      <th></th>\n",
       "      <th>admission_type</th>\n",
       "      <th>hospital_expire_flag</th>\n",
       "      <th>adm_los_hrs</th>\n",
       "      <th>sepsis_count</th>\n",
       "      <th>gender_binary</th>\n",
       "      <th>emergency_flag</th>\n",
       "      <th>elective_flag</th>\n",
       "      <th>chartevents_count</th>\n",
       "      <th>readmit_30</th>\n",
       "    </tr>\n",
       "  </thead>\n",
       "  <tbody>\n",
       "    <tr>\n",
       "      <th>0</th>\n",
       "      <td>EMERGENCY</td>\n",
       "      <td>0</td>\n",
       "      <td>27.466667</td>\n",
       "      <td>0.0</td>\n",
       "      <td>0</td>\n",
       "      <td>1</td>\n",
       "      <td>0</td>\n",
       "      <td>0.0</td>\n",
       "      <td>0.0</td>\n",
       "    </tr>\n",
       "    <tr>\n",
       "      <th>1</th>\n",
       "      <td>ELECTIVE</td>\n",
       "      <td>0</td>\n",
       "      <td>131.916667</td>\n",
       "      <td>0.0</td>\n",
       "      <td>1</td>\n",
       "      <td>0</td>\n",
       "      <td>1</td>\n",
       "      <td>0.0</td>\n",
       "      <td>0.0</td>\n",
       "    </tr>\n",
       "    <tr>\n",
       "      <th>2</th>\n",
       "      <td>EMERGENCY</td>\n",
       "      <td>0</td>\n",
       "      <td>162.433333</td>\n",
       "      <td>0.0</td>\n",
       "      <td>1</td>\n",
       "      <td>1</td>\n",
       "      <td>0</td>\n",
       "      <td>640.0</td>\n",
       "      <td>0.0</td>\n",
       "    </tr>\n",
       "    <tr>\n",
       "      <th>3</th>\n",
       "      <td>EMERGENCY</td>\n",
       "      <td>0</td>\n",
       "      <td>68.566667</td>\n",
       "      <td>0.0</td>\n",
       "      <td>1</td>\n",
       "      <td>1</td>\n",
       "      <td>0</td>\n",
       "      <td>0.0</td>\n",
       "      <td>0.0</td>\n",
       "    </tr>\n",
       "    <tr>\n",
       "      <th>4</th>\n",
       "      <td>EMERGENCY</td>\n",
       "      <td>0</td>\n",
       "      <td>84.816667</td>\n",
       "      <td>0.0</td>\n",
       "      <td>1</td>\n",
       "      <td>1</td>\n",
       "      <td>0</td>\n",
       "      <td>0.0</td>\n",
       "      <td>0.0</td>\n",
       "    </tr>\n",
       "  </tbody>\n",
       "</table>\n",
       "</div>"
      ],
      "text/plain": [
       "  admission_type  hospital_expire_flag  adm_los_hrs  sepsis_count  \\\n",
       "0      EMERGENCY                     0    27.466667           0.0   \n",
       "1       ELECTIVE                     0   131.916667           0.0   \n",
       "2      EMERGENCY                     0   162.433333           0.0   \n",
       "3      EMERGENCY                     0    68.566667           0.0   \n",
       "4      EMERGENCY                     0    84.816667           0.0   \n",
       "\n",
       "   gender_binary  emergency_flag  elective_flag  chartevents_count  readmit_30  \n",
       "0              0               1              0                0.0         0.0  \n",
       "1              1               0              1                0.0         0.0  \n",
       "2              1               1              0              640.0         0.0  \n",
       "3              1               1              0                0.0         0.0  \n",
       "4              1               1              0                0.0         0.0  "
      ]
     },
     "execution_count": 294,
     "metadata": {},
     "output_type": "execute_result"
    }
   ],
   "source": [
    "pairplot_df.head()"
   ]
  },
  {
   "cell_type": "code",
   "execution_count": 309,
   "metadata": {},
   "outputs": [],
   "source": [
    "ML_df = pairplot_df.copy()\n",
    "ML_df.drop(columns=['emergency_flag', 'elective_flag'], inplace=True)\n",
    "ML_df['gender'] = ML_df['gender_binary'].apply(lambda x: 'Male' if x == 1 else 'Female')\n",
    "ML_dummies = pd.get_dummies(ML_df, drop_first=True)\n"
   ]
  },
  {
   "cell_type": "code",
   "execution_count": 310,
   "metadata": {},
   "outputs": [
    {
     "data": {
      "text/html": [
       "<div>\n",
       "<style scoped>\n",
       "    .dataframe tbody tr th:only-of-type {\n",
       "        vertical-align: middle;\n",
       "    }\n",
       "\n",
       "    .dataframe tbody tr th {\n",
       "        vertical-align: top;\n",
       "    }\n",
       "\n",
       "    .dataframe thead th {\n",
       "        text-align: right;\n",
       "    }\n",
       "</style>\n",
       "<table border=\"1\" class=\"dataframe\">\n",
       "  <thead>\n",
       "    <tr style=\"text-align: right;\">\n",
       "      <th></th>\n",
       "      <th>hospital_expire_flag</th>\n",
       "      <th>adm_los_hrs</th>\n",
       "      <th>sepsis_count</th>\n",
       "      <th>gender_binary</th>\n",
       "      <th>chartevents_count</th>\n",
       "      <th>readmit_30</th>\n",
       "      <th>admission_type_EMERGENCY</th>\n",
       "      <th>admission_type_NEWBORN</th>\n",
       "      <th>admission_type_URGENT</th>\n",
       "      <th>gender_Male</th>\n",
       "    </tr>\n",
       "  </thead>\n",
       "  <tbody>\n",
       "    <tr>\n",
       "      <th>0</th>\n",
       "      <td>0</td>\n",
       "      <td>27.466667</td>\n",
       "      <td>0.0</td>\n",
       "      <td>0</td>\n",
       "      <td>0.0</td>\n",
       "      <td>0.0</td>\n",
       "      <td>1</td>\n",
       "      <td>0</td>\n",
       "      <td>0</td>\n",
       "      <td>0</td>\n",
       "    </tr>\n",
       "    <tr>\n",
       "      <th>1</th>\n",
       "      <td>0</td>\n",
       "      <td>131.916667</td>\n",
       "      <td>0.0</td>\n",
       "      <td>1</td>\n",
       "      <td>0.0</td>\n",
       "      <td>0.0</td>\n",
       "      <td>0</td>\n",
       "      <td>0</td>\n",
       "      <td>0</td>\n",
       "      <td>1</td>\n",
       "    </tr>\n",
       "    <tr>\n",
       "      <th>2</th>\n",
       "      <td>0</td>\n",
       "      <td>162.433333</td>\n",
       "      <td>0.0</td>\n",
       "      <td>1</td>\n",
       "      <td>640.0</td>\n",
       "      <td>0.0</td>\n",
       "      <td>1</td>\n",
       "      <td>0</td>\n",
       "      <td>0</td>\n",
       "      <td>1</td>\n",
       "    </tr>\n",
       "    <tr>\n",
       "      <th>3</th>\n",
       "      <td>0</td>\n",
       "      <td>68.566667</td>\n",
       "      <td>0.0</td>\n",
       "      <td>1</td>\n",
       "      <td>0.0</td>\n",
       "      <td>0.0</td>\n",
       "      <td>1</td>\n",
       "      <td>0</td>\n",
       "      <td>0</td>\n",
       "      <td>1</td>\n",
       "    </tr>\n",
       "    <tr>\n",
       "      <th>4</th>\n",
       "      <td>0</td>\n",
       "      <td>84.816667</td>\n",
       "      <td>0.0</td>\n",
       "      <td>1</td>\n",
       "      <td>0.0</td>\n",
       "      <td>0.0</td>\n",
       "      <td>1</td>\n",
       "      <td>0</td>\n",
       "      <td>0</td>\n",
       "      <td>1</td>\n",
       "    </tr>\n",
       "  </tbody>\n",
       "</table>\n",
       "</div>"
      ],
      "text/plain": [
       "   hospital_expire_flag  adm_los_hrs  sepsis_count  gender_binary  \\\n",
       "0                     0    27.466667           0.0              0   \n",
       "1                     0   131.916667           0.0              1   \n",
       "2                     0   162.433333           0.0              1   \n",
       "3                     0    68.566667           0.0              1   \n",
       "4                     0    84.816667           0.0              1   \n",
       "\n",
       "   chartevents_count  readmit_30  admission_type_EMERGENCY  \\\n",
       "0                0.0         0.0                         1   \n",
       "1                0.0         0.0                         0   \n",
       "2              640.0         0.0                         1   \n",
       "3                0.0         0.0                         1   \n",
       "4                0.0         0.0                         1   \n",
       "\n",
       "   admission_type_NEWBORN  admission_type_URGENT  gender_Male  \n",
       "0                       0                      0            0  \n",
       "1                       0                      0            1  \n",
       "2                       0                      0            1  \n",
       "3                       0                      0            1  \n",
       "4                       0                      0            1  "
      ]
     },
     "execution_count": 310,
     "metadata": {},
     "output_type": "execute_result"
    }
   ],
   "source": [
    "ML_dummies.head()"
   ]
  },
  {
   "cell_type": "code",
   "execution_count": 347,
   "metadata": {},
   "outputs": [
    {
     "data": {
      "text/plain": [
       "4.385712106057267"
      ]
     },
     "execution_count": 347,
     "metadata": {},
     "output_type": "execute_result"
    }
   ],
   "source": [
    "# Find prevalence of positive class\n",
    "(ML_dummies['readmit_30'].sum()/len(ML_dummies['readmit_30']))*100"
   ]
  },
  {
   "cell_type": "code",
   "execution_count": 311,
   "metadata": {},
   "outputs": [],
   "source": [
    "from sklearn.model_selection import train_test_split"
   ]
  },
  {
   "cell_type": "code",
   "execution_count": 312,
   "metadata": {},
   "outputs": [],
   "source": [
    "#create train/test split\n",
    "ML_train, ML_test = train_test_split(ML_dummies, test_size=0.3)"
   ]
  },
  {
   "cell_type": "code",
   "execution_count": 348,
   "metadata": {},
   "outputs": [
    {
     "data": {
      "text/plain": [
       "(41290, 17697)"
      ]
     },
     "execution_count": 348,
     "metadata": {},
     "output_type": "execute_result"
    }
   ],
   "source": [
    "len(ML_train), len(ML_test)"
   ]
  },
  {
   "cell_type": "code",
   "execution_count": 316,
   "metadata": {},
   "outputs": [],
   "source": [
    "import sklearn.ensemble as skens"
   ]
  },
  {
   "cell_type": "code",
   "execution_count": 317,
   "metadata": {},
   "outputs": [
    {
     "data": {
      "text/plain": [
       "RandomForestClassifier(bootstrap=True, class_weight=None, criterion='entropy',\n",
       "            max_depth=30, max_features='auto', max_leaf_nodes=None,\n",
       "            min_impurity_decrease=0.0, min_impurity_split=None,\n",
       "            min_samples_leaf=1, min_samples_split=2,\n",
       "            min_weight_fraction_leaf=0.0, n_estimators=100, n_jobs=-1,\n",
       "            oob_score=False, random_state=38, verbose=0, warm_start=False)"
      ]
     },
     "execution_count": 317,
     "metadata": {},
     "output_type": "execute_result"
    }
   ],
   "source": [
    "#build random forest \"baseline\" model\n",
    "training_cols = list(ML_train.columns.difference(['readmit_30'])) #technique to generate a list while excluding a val/col\n",
    "rf_model_base = skens.RandomForestClassifier(n_estimators=100, n_jobs=-1, max_depth=30, criterion = 'entropy', random_state=38)\n",
    "rf_model_base.fit(ML_train[training_cols],ML_train.readmit_30)"
   ]
  },
  {
   "cell_type": "code",
   "execution_count": 318,
   "metadata": {},
   "outputs": [
    {
     "name": "stderr",
     "output_type": "stream",
     "text": [
      "C:\\Users\\bcrom\\Anaconda3\\lib\\site-packages\\ipykernel_launcher.py:4: SettingWithCopyWarning: \n",
      "A value is trying to be set on a copy of a slice from a DataFrame.\n",
      "Try using .loc[row_indexer,col_indexer] = value instead\n",
      "\n",
      "See the caveats in the documentation: http://pandas.pydata.org/pandas-docs/stable/indexing.html#indexing-view-versus-copy\n",
      "  after removing the cwd from sys.path.\n"
     ]
    }
   ],
   "source": [
    "#use trained model from above to predict labels in test data\n",
    "predicted_labels_base = rf_model_base.predict(ML_test[training_cols])\n",
    "#attach predicted labels to test DF\n",
    "ML_test['predicted_rf_tree_base'] = predicted_labels_base"
   ]
  },
  {
   "cell_type": "code",
   "execution_count": 330,
   "metadata": {},
   "outputs": [
    {
     "name": "stdout",
     "output_type": "stream",
     "text": [
      "Accuracy: 0.95\n",
      "F1: 0.08\n",
      "Recall: 0.05\n",
      "Precision: 0.2\n"
     ]
    }
   ],
   "source": [
    "#calculate metrics\n",
    "from sklearn.metrics import accuracy_score, f1_score, recall_score, precision_score\n",
    "# metrics.accuracy_score(y_true, y_pred[, …])\n",
    "ML_accuracy = accuracy_score(ML_test['readmit_30'],predicted_labels_base)\n",
    "# metrics.f1_score(y_true, y_pred[, labels, …])\n",
    "ML_f1 = f1_score(ML_test['readmit_30'],predicted_labels_base)\n",
    "# metrics.recall_score(y_true, y_pred[, …])\n",
    "ML_recall = recall_score(ML_test['readmit_30'],predicted_labels_base)\n",
    "# metrics.precision_score(y_true, y_pred[, …])\n",
    "ML_precision = precision_score(ML_test['readmit_30'],predicted_labels_base)\n",
    "\n",
    "print('Accuracy: {}\\nF1: {}\\nRecall: {}\\nPrecision: {}'.format(round(ML_accuracy,2), round(ML_f1,2), round(ML_recall,2), round(ML_precision,2)))"
   ]
  },
  {
   "cell_type": "code",
   "execution_count": 340,
   "metadata": {},
   "outputs": [],
   "source": [
    "#experiment with hyperparameters\n",
    "param_grid = {\n",
    "                 'n_estimators': [5, 20, 40, 80, 100, 160],\n",
    "                 'max_depth': [2, 5, 7, 9, 30],\n",
    "                 'class_weight' : ['balanced', 'balanced_subsample']\n",
    "    \n",
    "             }"
   ]
  },
  {
   "cell_type": "code",
   "execution_count": 341,
   "metadata": {},
   "outputs": [],
   "source": [
    "from sklearn.model_selection import GridSearchCV"
   ]
  },
  {
   "cell_type": "code",
   "execution_count": 342,
   "metadata": {},
   "outputs": [],
   "source": [
    "grid_clf = GridSearchCV(rf_model_base, param_grid, cv=10)"
   ]
  },
  {
   "cell_type": "code",
   "execution_count": 343,
   "metadata": {},
   "outputs": [
    {
     "data": {
      "text/plain": [
       "GridSearchCV(cv=10, error_score='raise-deprecating',\n",
       "       estimator=RandomForestClassifier(bootstrap=True, class_weight=None, criterion='entropy',\n",
       "            max_depth=30, max_features='auto', max_leaf_nodes=None,\n",
       "            min_impurity_decrease=0.0, min_impurity_split=None,\n",
       "            min_samples_leaf=1, min_samples_split=2,\n",
       "            min_weight_fraction_leaf=0.0, n_estimators=100, n_jobs=-1,\n",
       "            oob_score=False, random_state=38, verbose=0, warm_start=False),\n",
       "       fit_params=None, iid='warn', n_jobs=None,\n",
       "       param_grid={'n_estimators': [5, 20, 40, 80, 100, 160], 'max_depth': [2, 5, 7, 9, 30], 'class_weight': ['balanced', 'balanced_subsample']},\n",
       "       pre_dispatch='2*n_jobs', refit=True, return_train_score='warn',\n",
       "       scoring=None, verbose=0)"
      ]
     },
     "execution_count": 343,
     "metadata": {},
     "output_type": "execute_result"
    }
   ],
   "source": [
    "grid_clf.fit(ML_train[training_cols],ML_train.readmit_30)"
   ]
  },
  {
   "cell_type": "code",
   "execution_count": 344,
   "metadata": {},
   "outputs": [
    {
     "data": {
      "text/plain": [
       "RandomForestClassifier(bootstrap=True, class_weight='balanced_subsample',\n",
       "            criterion='entropy', max_depth=30, max_features='auto',\n",
       "            max_leaf_nodes=None, min_impurity_decrease=0.0,\n",
       "            min_impurity_split=None, min_samples_leaf=1,\n",
       "            min_samples_split=2, min_weight_fraction_leaf=0.0,\n",
       "            n_estimators=40, n_jobs=-1, oob_score=False, random_state=38,\n",
       "            verbose=0, warm_start=False)"
      ]
     },
     "execution_count": 344,
     "metadata": {},
     "output_type": "execute_result"
    }
   ],
   "source": [
    "grid_clf.best_estimator_"
   ]
  },
  {
   "cell_type": "code",
   "execution_count": 349,
   "metadata": {},
   "outputs": [],
   "source": [
    "#this model didn't even generate recall or precision due to no predicted cases\n",
    "# rf_model_best = skens.RandomForestClassifier(bootstrap=True, class_weight=None, criterion='entropy',\n",
    "#             max_depth=2, max_features='auto', max_leaf_nodes=None,\n",
    "#             min_impurity_decrease=0.0, min_impurity_split=None,\n",
    "#             min_samples_leaf=1, min_samples_split=2,\n",
    "#             min_weight_fraction_leaf=0.0, n_estimators=5, n_jobs=-1,\n",
    "#             oob_score=False, random_state=38, verbose=0, warm_start=False)\n",
    "\n",
    "rf_model_best = skens.RandomForestClassifier(bootstrap=True, class_weight='balanced_subsample',\n",
    "            criterion='entropy', max_depth=30, max_features='auto',\n",
    "            max_leaf_nodes=None, min_impurity_decrease=0.0,\n",
    "            min_impurity_split=None, min_samples_leaf=1,\n",
    "            min_samples_split=2, min_weight_fraction_leaf=0.0,\n",
    "            n_estimators=40, n_jobs=-1, oob_score=False, random_state=38,\n",
    "            verbose=0, warm_start=False)"
   ]
  },
  {
   "cell_type": "code",
   "execution_count": 350,
   "metadata": {},
   "outputs": [],
   "source": [
    "#fit a \"best\" model from above to the training data & predict Type\n",
    "rf_model_best.fit(ML_train[training_cols],ML_train.readmit_30);"
   ]
  },
  {
   "cell_type": "code",
   "execution_count": 351,
   "metadata": {},
   "outputs": [
    {
     "name": "stderr",
     "output_type": "stream",
     "text": [
      "C:\\Users\\bcrom\\Anaconda3\\lib\\site-packages\\ipykernel_launcher.py:2: SettingWithCopyWarning: \n",
      "A value is trying to be set on a copy of a slice from a DataFrame.\n",
      "Try using .loc[row_indexer,col_indexer] = value instead\n",
      "\n",
      "See the caveats in the documentation: http://pandas.pydata.org/pandas-docs/stable/indexing.html#indexing-view-versus-copy\n",
      "  \n"
     ]
    }
   ],
   "source": [
    "predicted_labels_best = rf_model_best.predict(ML_test[training_cols])\n",
    "ML_test['predicted_rf_tree_best'] = predicted_labels_best"
   ]
  },
  {
   "cell_type": "code",
   "execution_count": 352,
   "metadata": {},
   "outputs": [
    {
     "name": "stdout",
     "output_type": "stream",
     "text": [
      "Accuracy: 0.93\n",
      "F1: 0.1\n",
      "Recall: 0.08\n",
      "Precision: 0.11\n"
     ]
    }
   ],
   "source": [
    "#calculate metrics\n",
    "from sklearn.metrics import accuracy_score, f1_score, recall_score, precision_score\n",
    "# metrics.accuracy_score(y_true, y_pred[, …])\n",
    "ML_accuracy = accuracy_score(ML_test['readmit_30'],predicted_labels_best)\n",
    "# metrics.f1_score(y_true, y_pred[, labels, …])\n",
    "ML_f1 = f1_score(ML_test['readmit_30'],predicted_labels_best)\n",
    "# metrics.recall_score(y_true, y_pred[, …])\n",
    "ML_recall = recall_score(ML_test['readmit_30'],predicted_labels_best)\n",
    "# metrics.precision_score(y_true, y_pred[, …])\n",
    "ML_precision = precision_score(ML_test['readmit_30'],predicted_labels_best)\n",
    "\n",
    "print('Accuracy: {}\\nF1: {}\\nRecall: {}\\nPrecision: {}'.format(round(ML_accuracy,2), round(ML_f1,2), round(ML_recall,2), round(ML_precision,2)))"
   ]
  },
  {
   "cell_type": "code",
   "execution_count": null,
   "metadata": {},
   "outputs": [],
   "source": []
  }
 ],
 "metadata": {
  "kernelspec": {
   "display_name": "Python 3",
   "language": "python",
   "name": "python3"
  },
  "language_info": {
   "codemirror_mode": {
    "name": "ipython",
    "version": 3
   },
   "file_extension": ".py",
   "mimetype": "text/x-python",
   "name": "python",
   "nbconvert_exporter": "python",
   "pygments_lexer": "ipython3",
   "version": "3.6.6"
  }
 },
 "nbformat": 4,
 "nbformat_minor": 2
}
