{
 "cells": [
  {
   "cell_type": "markdown",
   "metadata": {},
   "source": [
    "## What relationships exist between type of admission, admission diagnosis, length of stay, age, gender, readmittance within 30 days, amount of bedside attention (e.g. patient is bathed), and occurence of sepsis?"
   ]
  },
  {
   "cell_type": "markdown",
   "metadata": {},
   "source": [
    "EDA: Pairplot with every pairing of the eight attributes mentioned above. The data from ADMISSIONS, PATIENTS, and CHARTEVENTS would have to be merged and derived attributes added. The data would be primarily segmented by ADMISSIONS record. Visualization: Seaborn."
   ]
  },
  {
   "cell_type": "code",
   "execution_count": 1,
   "metadata": {},
   "outputs": [],
   "source": [
    "# Imports for DFs & connecting to Postgres\n",
    "import pandas as pd\n",
    "import psycopg2"
   ]
  },
  {
   "cell_type": "markdown",
   "metadata": {},
   "source": [
    "- Xtype of admission -> admissions.admission_type\n",
    "- Xadmission diagnosis -> admissions.diagnosis\n",
    "- Xlength of stay -> admissions.dischtime minus admissions.admittime\n",
    "- 0readmittance within 30 days -> admissions.admittime? (will have to calculate for each admission whether another admission took place within 30 days)\n",
    "- ?age -> patients.dob (will have to calculate age at time of admission)\n",
    "- Xgender -> patients.gender\n",
    "- !amount of bedside attention (e.g. patient is bathed) -> chartevents.itemid.label\n",
    "- Xoccurence of sepsis -> multiple"
   ]
  },
  {
   "cell_type": "markdown",
   "metadata": {},
   "source": [
    "### Pull in Admissions data"
   ]
  },
  {
   "cell_type": "code",
   "execution_count": 2,
   "metadata": {},
   "outputs": [
    {
     "name": "stdout",
     "output_type": "stream",
     "text": [
      "OK\n"
     ]
    }
   ],
   "source": [
    "# Connect to Postgres & get all records for ADMISSIONS\n",
    "try:\n",
    "    con = psycopg2.connect(\"host='localhost' dbname='mimic' user='postgres' password='postgres'\")\n",
    "    cur = con.cursor()\n",
    "    cur.execute (\"\"\"SELECT * FROM mimiciii.admissions;\"\"\")\n",
    "    con.commit()\n",
    "    print('OK')\n",
    "except Exception as e:\n",
    "    print(e)  "
   ]
  },
  {
   "cell_type": "code",
   "execution_count": 3,
   "metadata": {},
   "outputs": [],
   "source": [
    "# Store ADMISSIONS result in var\n",
    "admissions_all = cur.fetchall()"
   ]
  },
  {
   "cell_type": "code",
   "execution_count": 4,
   "metadata": {},
   "outputs": [],
   "source": [
    "# Convert ADMISSIONS result to DF\n",
    "admissions_df = pd.DataFrame(admissions_all, columns = ['row_id','subject_id', 'hadm_id', 'admittime', 'dischtime', 'deathtime',\n",
    " 'admission_type', 'admission_location', 'discharge_location',\n",
    " 'insurance', 'language', 'religion', 'marital_status', 'ethnicity',\n",
    " 'edregtime', 'edouttime', 'diagnosis', 'hospital_expire_flag',\n",
    " 'has_chartevents_data'])"
   ]
  },
  {
   "cell_type": "code",
   "execution_count": 5,
   "metadata": {},
   "outputs": [],
   "source": [
    "# Create shortened DF of relevant cols\n",
    "admissions_short = admissions_df[['subject_id', 'hadm_id', 'admission_type', 'diagnosis', 'dischtime', 'admittime']]"
   ]
  },
  {
   "cell_type": "markdown",
   "metadata": {},
   "source": [
    "### Pull in Patients data"
   ]
  },
  {
   "cell_type": "code",
   "execution_count": 6,
   "metadata": {},
   "outputs": [
    {
     "name": "stdout",
     "output_type": "stream",
     "text": [
      "OK\n"
     ]
    }
   ],
   "source": [
    "# Connect to Postgres & get all records for PATIENTS\n",
    "try:\n",
    "    con = psycopg2.connect(\"host='localhost' dbname='mimic' user='postgres' password='postgres'\")\n",
    "    cur = con.cursor()\n",
    "    cur.execute (\"\"\"SELECT * FROM mimiciii.patients;\"\"\")\n",
    "    con.commit()\n",
    "    print('OK')\n",
    "except Exception as e:\n",
    "    print(e)"
   ]
  },
  {
   "cell_type": "code",
   "execution_count": 7,
   "metadata": {},
   "outputs": [],
   "source": [
    "# Store PATIENTS result in var\n",
    "patients_all = cur.fetchall()"
   ]
  },
  {
   "cell_type": "code",
   "execution_count": 8,
   "metadata": {},
   "outputs": [],
   "source": [
    "# Convert PATIENTS result to DF\n",
    "patients_df = pd.DataFrame(patients_all, columns = ['row_id', 'subject_id', 'gender', 'dob', 'dod', 'dod_hosp', 'dod_ssn', 'expire_flag'])"
   ]
  },
  {
   "cell_type": "code",
   "execution_count": 9,
   "metadata": {},
   "outputs": [],
   "source": [
    "# Create shortened DF of relevant cols\n",
    "patients_short = patients_df[['subject_id', 'gender', 'dob']]"
   ]
  },
  {
   "cell_type": "markdown",
   "metadata": {},
   "source": [
    "### Merge Patient details onto Admissions"
   ]
  },
  {
   "cell_type": "code",
   "execution_count": 10,
   "metadata": {},
   "outputs": [],
   "source": [
    "# Merge shortened Patients DF onto shortened Admissions DF using 'subject_id'\n",
    "adm_pat_merge = admissions_short.merge(patients_short, how='left', on='subject_id')"
   ]
  },
  {
   "cell_type": "code",
   "execution_count": 11,
   "metadata": {},
   "outputs": [],
   "source": [
    "# Create new col to indicate length of stay, type is Timedelta\n",
    "adm_pat_merge['adm_los'] = adm_pat_merge['dischtime']-adm_pat_merge['admittime']"
   ]
  },
  {
   "cell_type": "code",
   "execution_count": 12,
   "metadata": {},
   "outputs": [],
   "source": [
    "# Add new col that converts timedelta to seconds & then to hours\n",
    "adm_pat_merge['adm_los_hrs'] = adm_pat_merge['adm_los'].apply(lambda x: ((x.seconds)+(x.days*86400))/3600)"
   ]
  },
  {
   "cell_type": "code",
   "execution_count": 13,
   "metadata": {},
   "outputs": [
    {
     "data": {
      "text/html": [
       "<div>\n",
       "<style scoped>\n",
       "    .dataframe tbody tr th:only-of-type {\n",
       "        vertical-align: middle;\n",
       "    }\n",
       "\n",
       "    .dataframe tbody tr th {\n",
       "        vertical-align: top;\n",
       "    }\n",
       "\n",
       "    .dataframe thead th {\n",
       "        text-align: right;\n",
       "    }\n",
       "</style>\n",
       "<table border=\"1\" class=\"dataframe\">\n",
       "  <thead>\n",
       "    <tr style=\"text-align: right;\">\n",
       "      <th></th>\n",
       "      <th>subject_id</th>\n",
       "      <th>hadm_id</th>\n",
       "      <th>admission_type</th>\n",
       "      <th>diagnosis</th>\n",
       "      <th>dischtime</th>\n",
       "      <th>admittime</th>\n",
       "      <th>gender</th>\n",
       "      <th>dob</th>\n",
       "      <th>adm_los</th>\n",
       "      <th>adm_los_hrs</th>\n",
       "    </tr>\n",
       "  </thead>\n",
       "  <tbody>\n",
       "    <tr>\n",
       "      <th>0</th>\n",
       "      <td>22</td>\n",
       "      <td>165315</td>\n",
       "      <td>EMERGENCY</td>\n",
       "      <td>BENZODIAZEPINE OVERDOSE</td>\n",
       "      <td>2196-04-10 15:54:00</td>\n",
       "      <td>2196-04-09 12:26:00</td>\n",
       "      <td>F</td>\n",
       "      <td>2131-05-07</td>\n",
       "      <td>1 days 03:28:00</td>\n",
       "      <td>27.466667</td>\n",
       "    </tr>\n",
       "    <tr>\n",
       "      <th>1</th>\n",
       "      <td>23</td>\n",
       "      <td>152223</td>\n",
       "      <td>ELECTIVE</td>\n",
       "      <td>CORONARY ARTERY DISEASE\\CORONARY ARTERY BYPASS...</td>\n",
       "      <td>2153-09-08 19:10:00</td>\n",
       "      <td>2153-09-03 07:15:00</td>\n",
       "      <td>M</td>\n",
       "      <td>2082-07-17</td>\n",
       "      <td>5 days 11:55:00</td>\n",
       "      <td>131.916667</td>\n",
       "    </tr>\n",
       "    <tr>\n",
       "      <th>2</th>\n",
       "      <td>23</td>\n",
       "      <td>124321</td>\n",
       "      <td>EMERGENCY</td>\n",
       "      <td>BRAIN MASS</td>\n",
       "      <td>2157-10-25 14:00:00</td>\n",
       "      <td>2157-10-18 19:34:00</td>\n",
       "      <td>M</td>\n",
       "      <td>2082-07-17</td>\n",
       "      <td>6 days 18:26:00</td>\n",
       "      <td>162.433333</td>\n",
       "    </tr>\n",
       "    <tr>\n",
       "      <th>3</th>\n",
       "      <td>24</td>\n",
       "      <td>161859</td>\n",
       "      <td>EMERGENCY</td>\n",
       "      <td>INTERIOR MYOCARDIAL INFARCTION</td>\n",
       "      <td>2139-06-09 12:48:00</td>\n",
       "      <td>2139-06-06 16:14:00</td>\n",
       "      <td>M</td>\n",
       "      <td>2100-05-31</td>\n",
       "      <td>2 days 20:34:00</td>\n",
       "      <td>68.566667</td>\n",
       "    </tr>\n",
       "    <tr>\n",
       "      <th>4</th>\n",
       "      <td>25</td>\n",
       "      <td>129635</td>\n",
       "      <td>EMERGENCY</td>\n",
       "      <td>ACUTE CORONARY SYNDROME</td>\n",
       "      <td>2160-11-05 14:55:00</td>\n",
       "      <td>2160-11-02 02:06:00</td>\n",
       "      <td>M</td>\n",
       "      <td>2101-11-21</td>\n",
       "      <td>3 days 12:49:00</td>\n",
       "      <td>84.816667</td>\n",
       "    </tr>\n",
       "  </tbody>\n",
       "</table>\n",
       "</div>"
      ],
      "text/plain": [
       "   subject_id  hadm_id admission_type  \\\n",
       "0          22   165315      EMERGENCY   \n",
       "1          23   152223       ELECTIVE   \n",
       "2          23   124321      EMERGENCY   \n",
       "3          24   161859      EMERGENCY   \n",
       "4          25   129635      EMERGENCY   \n",
       "\n",
       "                                           diagnosis           dischtime  \\\n",
       "0                            BENZODIAZEPINE OVERDOSE 2196-04-10 15:54:00   \n",
       "1  CORONARY ARTERY DISEASE\\CORONARY ARTERY BYPASS... 2153-09-08 19:10:00   \n",
       "2                                         BRAIN MASS 2157-10-25 14:00:00   \n",
       "3                     INTERIOR MYOCARDIAL INFARCTION 2139-06-09 12:48:00   \n",
       "4                            ACUTE CORONARY SYNDROME 2160-11-05 14:55:00   \n",
       "\n",
       "            admittime gender        dob         adm_los  adm_los_hrs  \n",
       "0 2196-04-09 12:26:00      F 2131-05-07 1 days 03:28:00    27.466667  \n",
       "1 2153-09-03 07:15:00      M 2082-07-17 5 days 11:55:00   131.916667  \n",
       "2 2157-10-18 19:34:00      M 2082-07-17 6 days 18:26:00   162.433333  \n",
       "3 2139-06-06 16:14:00      M 2100-05-31 2 days 20:34:00    68.566667  \n",
       "4 2160-11-02 02:06:00      M 2101-11-21 3 days 12:49:00    84.816667  "
      ]
     },
     "execution_count": 13,
     "metadata": {},
     "output_type": "execute_result"
    }
   ],
   "source": [
    "adm_pat_merge.head()"
   ]
  },
  {
   "cell_type": "code",
   "execution_count": 14,
   "metadata": {},
   "outputs": [],
   "source": [
    "# adm_pat_merge_copy = adm_pat_merge.copy()"
   ]
  },
  {
   "cell_type": "code",
   "execution_count": 15,
   "metadata": {},
   "outputs": [],
   "source": [
    "# adm_pat_merge_copy.head()"
   ]
  },
  {
   "cell_type": "code",
   "execution_count": 16,
   "metadata": {},
   "outputs": [],
   "source": [
    "# adm_pat_merge['admittime'][0]"
   ]
  },
  {
   "cell_type": "code",
   "execution_count": 17,
   "metadata": {},
   "outputs": [],
   "source": [
    "# xyz = adm_pat_merge['admittime'][0]+pd.Timedelta(days=30)"
   ]
  },
  {
   "cell_type": "code",
   "execution_count": 18,
   "metadata": {},
   "outputs": [],
   "source": [
    "# adm_pat_merge['admittime'][0] <= xyz"
   ]
  },
  {
   "cell_type": "code",
   "execution_count": 19,
   "metadata": {},
   "outputs": [],
   "source": [
    "# Create DF of admissions by patient to check against\n",
    "# adm_subj = admissions_df[['subject_id','admittime']].sort_values(by='subject_id')"
   ]
  },
  {
   "cell_type": "code",
   "execution_count": 20,
   "metadata": {},
   "outputs": [],
   "source": [
    "# def readmit(row):\n",
    "#     subject_id = row[0]\n",
    "#     admittime = row[5]\n",
    "#     print(subject_id, admittime)"
   ]
  },
  {
   "cell_type": "code",
   "execution_count": 21,
   "metadata": {},
   "outputs": [],
   "source": [
    "# adm_pat_merge.apply(readmit)"
   ]
  },
  {
   "cell_type": "markdown",
   "metadata": {},
   "source": [
    "### Pull ICD9 codes for Sepsis"
   ]
  },
  {
   "cell_type": "code",
   "execution_count": 22,
   "metadata": {},
   "outputs": [
    {
     "name": "stdout",
     "output_type": "stream",
     "text": [
      "OK\n"
     ]
    }
   ],
   "source": [
    "# Connect to Postgres & get all d_icd_diagnoses where short or long title indicates 'sepsis' or 'septicemia'\n",
    "try:\n",
    "    con = psycopg2.connect(\"host='localhost' dbname='mimic' user='postgres' password='postgres'\")\n",
    "    cur = con.cursor()\n",
    "    cur.execute (\"\"\"SELECT icd9_code, short_title, long_title\n",
    "\tFROM mimiciii.d_icd_diagnoses\n",
    "\tWHERE long_title LIKE ANY(ARRAY['Sepsi%', 'Septi%','sepsi%', 'septi%', 'Severe sepsis', 'severe sepsis', 'Puerperal sep%', 'puerperal sep%']) OR\n",
    "\tshort_title LIKE ANY(ARRAY['Sepsi%', 'Septi%','sepsi%', 'septi%', 'Severe sepsis', 'severe sepsis', 'Puerperal sep%', 'puerperal sep%']);\"\"\")\n",
    "    con.commit()\n",
    "    print('OK')\n",
    "except Exception as e:\n",
    "    print(e)  "
   ]
  },
  {
   "cell_type": "code",
   "execution_count": 23,
   "metadata": {},
   "outputs": [],
   "source": [
    "# Store ICD9_CODE result in var\n",
    "sepsis_all = cur.fetchall()"
   ]
  },
  {
   "cell_type": "code",
   "execution_count": 24,
   "metadata": {},
   "outputs": [],
   "source": [
    "# Convert ICD9_CODE result to DF\n",
    "sepsis_df = pd.DataFrame(sepsis_all, columns = ['icd9_code', 'short_title', 'long_title'])"
   ]
  },
  {
   "cell_type": "code",
   "execution_count": 25,
   "metadata": {},
   "outputs": [],
   "source": [
    "# Get list of relevant ICD9 codes, just here for reference since it's pasted below\n",
    "sepsis_codes_list = sepsis_df['icd9_code'].to_list()\n",
    "# sepsis_codes_list"
   ]
  },
  {
   "cell_type": "markdown",
   "metadata": {},
   "source": [
    "### Pull Diagnoses ICD data to find admissions with sepsis"
   ]
  },
  {
   "cell_type": "code",
   "execution_count": 26,
   "metadata": {},
   "outputs": [
    {
     "name": "stdout",
     "output_type": "stream",
     "text": [
      "OK\n"
     ]
    }
   ],
   "source": [
    "# Connect to Postgres & get all admissions where a sepsis code was used\n",
    "try:\n",
    "    con = psycopg2.connect(\"host='localhost' dbname='mimic' user='postgres' password='postgres'\")\n",
    "    cur = con.cursor()\n",
    "    cur.execute (\"\"\"SELECT hadm_id, icd9_code\n",
    "\tFROM mimiciii.diagnoses_icd\n",
    "\tWHERE icd9_code = ANY(ARRAY['0383',\n",
    " '03840',\n",
    " '03841',\n",
    " '03842',\n",
    " '03843',\n",
    " '03844',\n",
    " '0388',\n",
    " '0389',\n",
    " '0202',\n",
    " '449',\n",
    " '41512',\n",
    " '42292',\n",
    " '65930',\n",
    " '65931',\n",
    " '65933',\n",
    " '77181',\n",
    " '99591',\n",
    " '99592',\n",
    " '78552',\n",
    " '67020',\n",
    " '67022',\n",
    " '67024',\n",
    " '67030',\n",
    " '67032',\n",
    " '67034']);\"\"\")\n",
    "    con.commit()\n",
    "    print('OK')\n",
    "except Exception as e:\n",
    "    print(e)  "
   ]
  },
  {
   "cell_type": "code",
   "execution_count": 27,
   "metadata": {},
   "outputs": [],
   "source": [
    "# Store DIAGNOSES_ICD result in var\n",
    "adm_sepsis_all = cur.fetchall()"
   ]
  },
  {
   "cell_type": "code",
   "execution_count": 28,
   "metadata": {},
   "outputs": [],
   "source": [
    "# Convert DIAGNOSES_ICD result to DF\n",
    "adm_sepsis_df = pd.DataFrame(adm_sepsis_all, columns = ['hadm_id', 'icd9_code'])"
   ]
  },
  {
   "cell_type": "code",
   "execution_count": 29,
   "metadata": {},
   "outputs": [],
   "source": [
    "# Create DF that contains every admission where sepsis was diagnosed & tally number of those diagnoses for the given admission\n",
    "adm_sepsis_cnt = adm_sepsis_df.groupby(by='hadm_id').agg({'icd9_code':'count'})\n",
    "# Rename column to 'sepsis_count'\n",
    "adm_sepsis_cnt.rename(columns={'icd9_code':'sepsis_count'}, inplace=True)"
   ]
  },
  {
   "cell_type": "markdown",
   "metadata": {},
   "source": [
    "### Merge count of sepsis into admission-patient DF"
   ]
  },
  {
   "cell_type": "code",
   "execution_count": 30,
   "metadata": {},
   "outputs": [],
   "source": [
    "# Create new merged DF with admissions, patient, & sepsis count data\n",
    "adm_pat_sep = adm_pat_merge.merge(adm_sepsis_cnt, how='left', on='hadm_id')\n",
    "# Convert NaNs in 'sepsis_count' to zeroes\n",
    "adm_pat_sep['sepsis_count'].fillna(value=0, inplace=True)"
   ]
  },
  {
   "cell_type": "code",
   "execution_count": 45,
   "metadata": {},
   "outputs": [
    {
     "data": {
      "text/html": [
       "<div>\n",
       "<style scoped>\n",
       "    .dataframe tbody tr th:only-of-type {\n",
       "        vertical-align: middle;\n",
       "    }\n",
       "\n",
       "    .dataframe tbody tr th {\n",
       "        vertical-align: top;\n",
       "    }\n",
       "\n",
       "    .dataframe thead th {\n",
       "        text-align: right;\n",
       "    }\n",
       "</style>\n",
       "<table border=\"1\" class=\"dataframe\">\n",
       "  <thead>\n",
       "    <tr style=\"text-align: right;\">\n",
       "      <th></th>\n",
       "      <th>subject_id</th>\n",
       "      <th>hadm_id</th>\n",
       "      <th>admission_type</th>\n",
       "      <th>diagnosis</th>\n",
       "      <th>dischtime</th>\n",
       "      <th>admittime</th>\n",
       "      <th>gender</th>\n",
       "      <th>dob</th>\n",
       "      <th>adm_los</th>\n",
       "      <th>adm_los_hrs</th>\n",
       "      <th>sepsis_count</th>\n",
       "    </tr>\n",
       "  </thead>\n",
       "  <tbody>\n",
       "    <tr>\n",
       "      <th>58141</th>\n",
       "      <td>93651</td>\n",
       "      <td>191388</td>\n",
       "      <td>EMERGENCY</td>\n",
       "      <td>FREE AIR</td>\n",
       "      <td>2132-02-02 17:25:00</td>\n",
       "      <td>2132-02-01 22:13:00</td>\n",
       "      <td>F</td>\n",
       "      <td>1832-02-01</td>\n",
       "      <td>0 days 19:12:00</td>\n",
       "      <td>19.200000</td>\n",
       "      <td>0.0</td>\n",
       "    </tr>\n",
       "    <tr>\n",
       "      <th>44004</th>\n",
       "      <td>54006</td>\n",
       "      <td>130060</td>\n",
       "      <td>EMERGENCY</td>\n",
       "      <td>LEFT ANKLE INFECTION</td>\n",
       "      <td>2197-05-09 16:19:00</td>\n",
       "      <td>2197-04-17 13:13:00</td>\n",
       "      <td>F</td>\n",
       "      <td>2133-11-30</td>\n",
       "      <td>22 days 03:06:00</td>\n",
       "      <td>531.100000</td>\n",
       "      <td>2.0</td>\n",
       "    </tr>\n",
       "    <tr>\n",
       "      <th>9182</th>\n",
       "      <td>9248</td>\n",
       "      <td>183800</td>\n",
       "      <td>ELECTIVE</td>\n",
       "      <td>ABDOMINAL AORTIC ANEURYSM</td>\n",
       "      <td>2174-05-06 12:24:00</td>\n",
       "      <td>2174-04-24 13:55:00</td>\n",
       "      <td>M</td>\n",
       "      <td>2092-05-05</td>\n",
       "      <td>11 days 22:29:00</td>\n",
       "      <td>286.483333</td>\n",
       "      <td>0.0</td>\n",
       "    </tr>\n",
       "    <tr>\n",
       "      <th>35166</th>\n",
       "      <td>30018</td>\n",
       "      <td>124022</td>\n",
       "      <td>EMERGENCY</td>\n",
       "      <td>IVH</td>\n",
       "      <td>2168-12-22 05:39:00</td>\n",
       "      <td>2168-12-10 10:51:00</td>\n",
       "      <td>M</td>\n",
       "      <td>2082-04-23</td>\n",
       "      <td>11 days 18:48:00</td>\n",
       "      <td>282.800000</td>\n",
       "      <td>0.0</td>\n",
       "    </tr>\n",
       "    <tr>\n",
       "      <th>11279</th>\n",
       "      <td>6741</td>\n",
       "      <td>100191</td>\n",
       "      <td>EMERGENCY</td>\n",
       "      <td>INTRACRANIAL HEMORRHAGE</td>\n",
       "      <td>2146-11-25 16:30:00</td>\n",
       "      <td>2146-11-17 23:08:00</td>\n",
       "      <td>M</td>\n",
       "      <td>2063-06-10</td>\n",
       "      <td>7 days 17:22:00</td>\n",
       "      <td>185.366667</td>\n",
       "      <td>1.0</td>\n",
       "    </tr>\n",
       "  </tbody>\n",
       "</table>\n",
       "</div>"
      ],
      "text/plain": [
       "       subject_id  hadm_id admission_type                  diagnosis  \\\n",
       "58141       93651   191388      EMERGENCY                   FREE AIR   \n",
       "44004       54006   130060      EMERGENCY       LEFT ANKLE INFECTION   \n",
       "9182         9248   183800       ELECTIVE  ABDOMINAL AORTIC ANEURYSM   \n",
       "35166       30018   124022      EMERGENCY                        IVH   \n",
       "11279        6741   100191      EMERGENCY    INTRACRANIAL HEMORRHAGE   \n",
       "\n",
       "                dischtime           admittime gender        dob  \\\n",
       "58141 2132-02-02 17:25:00 2132-02-01 22:13:00      F 1832-02-01   \n",
       "44004 2197-05-09 16:19:00 2197-04-17 13:13:00      F 2133-11-30   \n",
       "9182  2174-05-06 12:24:00 2174-04-24 13:55:00      M 2092-05-05   \n",
       "35166 2168-12-22 05:39:00 2168-12-10 10:51:00      M 2082-04-23   \n",
       "11279 2146-11-25 16:30:00 2146-11-17 23:08:00      M 2063-06-10   \n",
       "\n",
       "               adm_los  adm_los_hrs  sepsis_count  \n",
       "58141  0 days 19:12:00    19.200000           0.0  \n",
       "44004 22 days 03:06:00   531.100000           2.0  \n",
       "9182  11 days 22:29:00   286.483333           0.0  \n",
       "35166 11 days 18:48:00   282.800000           0.0  \n",
       "11279  7 days 17:22:00   185.366667           1.0  "
      ]
     },
     "execution_count": 45,
     "metadata": {},
     "output_type": "execute_result"
    }
   ],
   "source": [
    "adm_pat_sep.sample(5)"
   ]
  },
  {
   "cell_type": "markdown",
   "metadata": {},
   "source": [
    "### Pull D_ITEMS data related to \"bedside patient care\""
   ]
  },
  {
   "cell_type": "code",
   "execution_count": 32,
   "metadata": {},
   "outputs": [
    {
     "name": "stdout",
     "output_type": "stream",
     "text": [
      "OK\n"
     ]
    }
   ],
   "source": [
    "# Connect to Postgres & get all d_items where label indicates \"bedside patient care\"\n",
    "try:\n",
    "    con = psycopg2.connect(\"host='localhost' dbname='mimic' user='postgres' password='postgres'\")\n",
    "    cur = con.cursor()\n",
    "    cur.execute (\"\"\"SELECT itemid, label\n",
    "\tFROM mimiciii.d_items\n",
    "\tWHERE label LIKE ANY(ARRAY['Dressing','Dressing Applied%','Dressing Change','Dressing change','catheter reposi%',\n",
    "    'Catheter','bath%','show%','shav%', 'teeth%', 'bedbath', 'bed/bath%','activi%', 'Food%']);\"\"\")\n",
    "    con.commit()\n",
    "    print('OK')\n",
    "except Exception as e:\n",
    "    print(e)  "
   ]
  },
  {
   "cell_type": "code",
   "execution_count": 33,
   "metadata": {},
   "outputs": [],
   "source": [
    "# Store D_ITEMS result in var\n",
    "items_care_all = cur.fetchall()"
   ]
  },
  {
   "cell_type": "code",
   "execution_count": 34,
   "metadata": {},
   "outputs": [],
   "source": [
    "# Convert D_ITEMS result to DF\n",
    "items_care_df = pd.DataFrame(items_care_all, columns = ['itemid', 'label'])"
   ]
  },
  {
   "cell_type": "code",
   "execution_count": 35,
   "metadata": {},
   "outputs": [],
   "source": [
    "# Get list of relevant itemids, just here for reference since it's pasted below\n",
    "items_care_list = items_care_df['itemid'].to_list()"
   ]
  },
  {
   "cell_type": "code",
   "execution_count": 46,
   "metadata": {},
   "outputs": [],
   "source": [
    "# items_care_list"
   ]
  },
  {
   "cell_type": "markdown",
   "metadata": {},
   "source": [
    "### Get all \"bedside patient care\" entries from CHARTEVENTS"
   ]
  },
  {
   "cell_type": "code",
   "execution_count": 37,
   "metadata": {},
   "outputs": [
    {
     "name": "stdout",
     "output_type": "stream",
     "text": [
      "OK\n"
     ]
    }
   ],
   "source": [
    "# Connect to Postgres & get all chartevents where itemid matches those from \"bedside patient care\" list\n",
    "try:\n",
    "    con = psycopg2.connect(\"host='localhost' dbname='mimic' user='postgres' password='postgres'\")\n",
    "    cur = con.cursor()\n",
    "    cur.execute (\"\"\"SELECT subject_id, hadm_id, icustay_id, itemid\n",
    "\tFROM mimiciii.chartevents\n",
    "\tWHERE itemid = ANY(ARRAY[1053,\n",
    " 1063,\n",
    " 1066,\n",
    " 1202,\n",
    " 5548,\n",
    " 7896,\n",
    " 4605,\n",
    " 1382,\n",
    " 3058,\n",
    " 5678,\n",
    " 3013,\n",
    " 3014,\n",
    " 6269,\n",
    " 7652,\n",
    " 44555,\n",
    " 228482,\n",
    " 227955]);\"\"\")\n",
    "    con.commit()\n",
    "    print('OK')\n",
    "except Exception as e:\n",
    "    print(e) "
   ]
  },
  {
   "cell_type": "code",
   "execution_count": 38,
   "metadata": {},
   "outputs": [],
   "source": [
    "# Store CHARTEVENTS result in var\n",
    "chart_care_all = cur.fetchall()"
   ]
  },
  {
   "cell_type": "code",
   "execution_count": 39,
   "metadata": {},
   "outputs": [
    {
     "data": {
      "text/plain": [
       "[]"
      ]
     },
     "execution_count": 39,
     "metadata": {},
     "output_type": "execute_result"
    }
   ],
   "source": [
    "chart_care_all"
   ]
  },
  {
   "cell_type": "markdown",
   "metadata": {},
   "source": [
    "### Not finding any \"bedside patient care\" entries in Chartevents, strange."
   ]
  },
  {
   "cell_type": "markdown",
   "metadata": {},
   "source": [
    "## Check if readmitted within 30 cal days"
   ]
  },
  {
   "cell_type": "code",
   "execution_count": 58,
   "metadata": {},
   "outputs": [],
   "source": [
    "adm_pat_sep_copy = adm_pat_sep.copy()"
   ]
  },
  {
   "cell_type": "code",
   "execution_count": 76,
   "metadata": {},
   "outputs": [],
   "source": [
    "# adm_pat_sep['readmit_30'] = adm_pat_sep.apply(lambda row: [6])\n",
    "# adm_pat_sep['readmit_30'] = 'yes'"
   ]
  },
  {
   "cell_type": "code",
   "execution_count": 77,
   "metadata": {},
   "outputs": [
    {
     "data": {
      "text/html": [
       "<div>\n",
       "<style scoped>\n",
       "    .dataframe tbody tr th:only-of-type {\n",
       "        vertical-align: middle;\n",
       "    }\n",
       "\n",
       "    .dataframe tbody tr th {\n",
       "        vertical-align: top;\n",
       "    }\n",
       "\n",
       "    .dataframe thead th {\n",
       "        text-align: right;\n",
       "    }\n",
       "</style>\n",
       "<table border=\"1\" class=\"dataframe\">\n",
       "  <thead>\n",
       "    <tr style=\"text-align: right;\">\n",
       "      <th></th>\n",
       "      <th>subject_id</th>\n",
       "      <th>hadm_id</th>\n",
       "      <th>admission_type</th>\n",
       "      <th>diagnosis</th>\n",
       "      <th>dischtime</th>\n",
       "      <th>admittime</th>\n",
       "      <th>gender</th>\n",
       "      <th>dob</th>\n",
       "      <th>adm_los</th>\n",
       "      <th>adm_los_hrs</th>\n",
       "      <th>sepsis_count</th>\n",
       "      <th>readmit_30</th>\n",
       "    </tr>\n",
       "  </thead>\n",
       "  <tbody>\n",
       "    <tr>\n",
       "      <th>0</th>\n",
       "      <td>22</td>\n",
       "      <td>165315</td>\n",
       "      <td>EMERGENCY</td>\n",
       "      <td>BENZODIAZEPINE OVERDOSE</td>\n",
       "      <td>2196-04-10 15:54:00</td>\n",
       "      <td>2196-04-09 12:26:00</td>\n",
       "      <td>F</td>\n",
       "      <td>2131-05-07</td>\n",
       "      <td>1 days 03:28:00</td>\n",
       "      <td>27.466667</td>\n",
       "      <td>0.0</td>\n",
       "      <td>NaN</td>\n",
       "    </tr>\n",
       "    <tr>\n",
       "      <th>1</th>\n",
       "      <td>23</td>\n",
       "      <td>152223</td>\n",
       "      <td>ELECTIVE</td>\n",
       "      <td>CORONARY ARTERY DISEASE\\CORONARY ARTERY BYPASS...</td>\n",
       "      <td>2153-09-08 19:10:00</td>\n",
       "      <td>2153-09-03 07:15:00</td>\n",
       "      <td>M</td>\n",
       "      <td>2082-07-17</td>\n",
       "      <td>5 days 11:55:00</td>\n",
       "      <td>131.916667</td>\n",
       "      <td>0.0</td>\n",
       "      <td>NaN</td>\n",
       "    </tr>\n",
       "    <tr>\n",
       "      <th>2</th>\n",
       "      <td>23</td>\n",
       "      <td>124321</td>\n",
       "      <td>EMERGENCY</td>\n",
       "      <td>BRAIN MASS</td>\n",
       "      <td>2157-10-25 14:00:00</td>\n",
       "      <td>2157-10-18 19:34:00</td>\n",
       "      <td>M</td>\n",
       "      <td>2082-07-17</td>\n",
       "      <td>6 days 18:26:00</td>\n",
       "      <td>162.433333</td>\n",
       "      <td>0.0</td>\n",
       "      <td>NaN</td>\n",
       "    </tr>\n",
       "    <tr>\n",
       "      <th>3</th>\n",
       "      <td>24</td>\n",
       "      <td>161859</td>\n",
       "      <td>EMERGENCY</td>\n",
       "      <td>INTERIOR MYOCARDIAL INFARCTION</td>\n",
       "      <td>2139-06-09 12:48:00</td>\n",
       "      <td>2139-06-06 16:14:00</td>\n",
       "      <td>M</td>\n",
       "      <td>2100-05-31</td>\n",
       "      <td>2 days 20:34:00</td>\n",
       "      <td>68.566667</td>\n",
       "      <td>0.0</td>\n",
       "      <td>NaN</td>\n",
       "    </tr>\n",
       "    <tr>\n",
       "      <th>4</th>\n",
       "      <td>25</td>\n",
       "      <td>129635</td>\n",
       "      <td>EMERGENCY</td>\n",
       "      <td>ACUTE CORONARY SYNDROME</td>\n",
       "      <td>2160-11-05 14:55:00</td>\n",
       "      <td>2160-11-02 02:06:00</td>\n",
       "      <td>M</td>\n",
       "      <td>2101-11-21</td>\n",
       "      <td>3 days 12:49:00</td>\n",
       "      <td>84.816667</td>\n",
       "      <td>0.0</td>\n",
       "      <td>NaN</td>\n",
       "    </tr>\n",
       "  </tbody>\n",
       "</table>\n",
       "</div>"
      ],
      "text/plain": [
       "   subject_id  hadm_id admission_type  \\\n",
       "0          22   165315      EMERGENCY   \n",
       "1          23   152223       ELECTIVE   \n",
       "2          23   124321      EMERGENCY   \n",
       "3          24   161859      EMERGENCY   \n",
       "4          25   129635      EMERGENCY   \n",
       "\n",
       "                                           diagnosis           dischtime  \\\n",
       "0                            BENZODIAZEPINE OVERDOSE 2196-04-10 15:54:00   \n",
       "1  CORONARY ARTERY DISEASE\\CORONARY ARTERY BYPASS... 2153-09-08 19:10:00   \n",
       "2                                         BRAIN MASS 2157-10-25 14:00:00   \n",
       "3                     INTERIOR MYOCARDIAL INFARCTION 2139-06-09 12:48:00   \n",
       "4                            ACUTE CORONARY SYNDROME 2160-11-05 14:55:00   \n",
       "\n",
       "            admittime gender        dob         adm_los  adm_los_hrs  \\\n",
       "0 2196-04-09 12:26:00      F 2131-05-07 1 days 03:28:00    27.466667   \n",
       "1 2153-09-03 07:15:00      M 2082-07-17 5 days 11:55:00   131.916667   \n",
       "2 2157-10-18 19:34:00      M 2082-07-17 6 days 18:26:00   162.433333   \n",
       "3 2139-06-06 16:14:00      M 2100-05-31 2 days 20:34:00    68.566667   \n",
       "4 2160-11-02 02:06:00      M 2101-11-21 3 days 12:49:00    84.816667   \n",
       "\n",
       "   sepsis_count readmit_30  \n",
       "0           0.0        NaN  \n",
       "1           0.0        NaN  \n",
       "2           0.0        NaN  \n",
       "3           0.0        NaN  \n",
       "4           0.0        NaN  "
      ]
     },
     "execution_count": 77,
     "metadata": {},
     "output_type": "execute_result"
    }
   ],
   "source": [
    "# adm_pat_sep.head()"
   ]
  },
  {
   "cell_type": "code",
   "execution_count": 90,
   "metadata": {},
   "outputs": [
    {
     "data": {
      "text/plain": [
       "58976"
      ]
     },
     "execution_count": 90,
     "metadata": {},
     "output_type": "execute_result"
    }
   ],
   "source": [
    "len(adm_pat_sep['subject_id'])"
   ]
  },
  {
   "cell_type": "code",
   "execution_count": 88,
   "metadata": {},
   "outputs": [],
   "source": [
    "adms_w_readmit_30 = []\n",
    "\n",
    "for index, row in adm_pat_sep.iterrows():\n",
    "    hadm_id = row[1]\n",
    "    subject_id = row[0]\n",
    "    admittime = row[5]\n",
    "    admittime_30 = admittime+pd.Timedelta(days=30)\n",
    "    \n",
    "    if subject_id in adm_pat_sep_copy['subject_id']:\n",
    "        adms_w_readmit_30.append(hadm_id)\n",
    "    \n",
    "    "
   ]
  },
  {
   "cell_type": "code",
   "execution_count": 91,
   "metadata": {},
   "outputs": [
    {
     "data": {
      "text/plain": [
       "45912"
      ]
     },
     "execution_count": 91,
     "metadata": {},
     "output_type": "execute_result"
    }
   ],
   "source": [
    "len(adms_w_readmit_30)"
   ]
  },
  {
   "cell_type": "code",
   "execution_count": 93,
   "metadata": {},
   "outputs": [
    {
     "data": {
      "text/plain": [
       "[165315,\n",
       " 152223,\n",
       " 124321,\n",
       " 161859,\n",
       " 129635,\n",
       " 197661,\n",
       " 134931,\n",
       " 162569,\n",
       " 104557,\n",
       " 128652]"
      ]
     },
     "execution_count": 93,
     "metadata": {},
     "output_type": "execute_result"
    }
   ],
   "source": [
    "adms_w_readmit_30[:10]"
   ]
  },
  {
   "cell_type": "code",
   "execution_count": 104,
   "metadata": {},
   "outputs": [],
   "source": [
    "def readmit(row):\n",
    "    subject_id = row[0]\n",
    "    admittime = row[5]\n",
    "#     print(subject_id, admittime)\n",
    "    return 'yes'"
   ]
  },
  {
   "cell_type": "code",
   "execution_count": 105,
   "metadata": {},
   "outputs": [],
   "source": [
    "adm_pat_sep['readmit_30'] = adm_pat_sep.apply(lambda row: readmit(row))"
   ]
  },
  {
   "cell_type": "code",
   "execution_count": 106,
   "metadata": {},
   "outputs": [
    {
     "data": {
      "text/html": [
       "<div>\n",
       "<style scoped>\n",
       "    .dataframe tbody tr th:only-of-type {\n",
       "        vertical-align: middle;\n",
       "    }\n",
       "\n",
       "    .dataframe tbody tr th {\n",
       "        vertical-align: top;\n",
       "    }\n",
       "\n",
       "    .dataframe thead th {\n",
       "        text-align: right;\n",
       "    }\n",
       "</style>\n",
       "<table border=\"1\" class=\"dataframe\">\n",
       "  <thead>\n",
       "    <tr style=\"text-align: right;\">\n",
       "      <th></th>\n",
       "      <th>subject_id</th>\n",
       "      <th>hadm_id</th>\n",
       "      <th>admission_type</th>\n",
       "      <th>diagnosis</th>\n",
       "      <th>dischtime</th>\n",
       "      <th>admittime</th>\n",
       "      <th>gender</th>\n",
       "      <th>dob</th>\n",
       "      <th>adm_los</th>\n",
       "      <th>adm_los_hrs</th>\n",
       "      <th>sepsis_count</th>\n",
       "      <th>readmit_30</th>\n",
       "    </tr>\n",
       "  </thead>\n",
       "  <tbody>\n",
       "    <tr>\n",
       "      <th>0</th>\n",
       "      <td>22</td>\n",
       "      <td>165315</td>\n",
       "      <td>EMERGENCY</td>\n",
       "      <td>BENZODIAZEPINE OVERDOSE</td>\n",
       "      <td>2196-04-10 15:54:00</td>\n",
       "      <td>2196-04-09 12:26:00</td>\n",
       "      <td>F</td>\n",
       "      <td>2131-05-07</td>\n",
       "      <td>1 days 03:28:00</td>\n",
       "      <td>27.466667</td>\n",
       "      <td>0.0</td>\n",
       "      <td>NaN</td>\n",
       "    </tr>\n",
       "    <tr>\n",
       "      <th>1</th>\n",
       "      <td>23</td>\n",
       "      <td>152223</td>\n",
       "      <td>ELECTIVE</td>\n",
       "      <td>CORONARY ARTERY DISEASE\\CORONARY ARTERY BYPASS...</td>\n",
       "      <td>2153-09-08 19:10:00</td>\n",
       "      <td>2153-09-03 07:15:00</td>\n",
       "      <td>M</td>\n",
       "      <td>2082-07-17</td>\n",
       "      <td>5 days 11:55:00</td>\n",
       "      <td>131.916667</td>\n",
       "      <td>0.0</td>\n",
       "      <td>NaN</td>\n",
       "    </tr>\n",
       "    <tr>\n",
       "      <th>2</th>\n",
       "      <td>23</td>\n",
       "      <td>124321</td>\n",
       "      <td>EMERGENCY</td>\n",
       "      <td>BRAIN MASS</td>\n",
       "      <td>2157-10-25 14:00:00</td>\n",
       "      <td>2157-10-18 19:34:00</td>\n",
       "      <td>M</td>\n",
       "      <td>2082-07-17</td>\n",
       "      <td>6 days 18:26:00</td>\n",
       "      <td>162.433333</td>\n",
       "      <td>0.0</td>\n",
       "      <td>NaN</td>\n",
       "    </tr>\n",
       "    <tr>\n",
       "      <th>3</th>\n",
       "      <td>24</td>\n",
       "      <td>161859</td>\n",
       "      <td>EMERGENCY</td>\n",
       "      <td>INTERIOR MYOCARDIAL INFARCTION</td>\n",
       "      <td>2139-06-09 12:48:00</td>\n",
       "      <td>2139-06-06 16:14:00</td>\n",
       "      <td>M</td>\n",
       "      <td>2100-05-31</td>\n",
       "      <td>2 days 20:34:00</td>\n",
       "      <td>68.566667</td>\n",
       "      <td>0.0</td>\n",
       "      <td>NaN</td>\n",
       "    </tr>\n",
       "    <tr>\n",
       "      <th>4</th>\n",
       "      <td>25</td>\n",
       "      <td>129635</td>\n",
       "      <td>EMERGENCY</td>\n",
       "      <td>ACUTE CORONARY SYNDROME</td>\n",
       "      <td>2160-11-05 14:55:00</td>\n",
       "      <td>2160-11-02 02:06:00</td>\n",
       "      <td>M</td>\n",
       "      <td>2101-11-21</td>\n",
       "      <td>3 days 12:49:00</td>\n",
       "      <td>84.816667</td>\n",
       "      <td>0.0</td>\n",
       "      <td>NaN</td>\n",
       "    </tr>\n",
       "  </tbody>\n",
       "</table>\n",
       "</div>"
      ],
      "text/plain": [
       "   subject_id  hadm_id admission_type  \\\n",
       "0          22   165315      EMERGENCY   \n",
       "1          23   152223       ELECTIVE   \n",
       "2          23   124321      EMERGENCY   \n",
       "3          24   161859      EMERGENCY   \n",
       "4          25   129635      EMERGENCY   \n",
       "\n",
       "                                           diagnosis           dischtime  \\\n",
       "0                            BENZODIAZEPINE OVERDOSE 2196-04-10 15:54:00   \n",
       "1  CORONARY ARTERY DISEASE\\CORONARY ARTERY BYPASS... 2153-09-08 19:10:00   \n",
       "2                                         BRAIN MASS 2157-10-25 14:00:00   \n",
       "3                     INTERIOR MYOCARDIAL INFARCTION 2139-06-09 12:48:00   \n",
       "4                            ACUTE CORONARY SYNDROME 2160-11-05 14:55:00   \n",
       "\n",
       "            admittime gender        dob         adm_los  adm_los_hrs  \\\n",
       "0 2196-04-09 12:26:00      F 2131-05-07 1 days 03:28:00    27.466667   \n",
       "1 2153-09-03 07:15:00      M 2082-07-17 5 days 11:55:00   131.916667   \n",
       "2 2157-10-18 19:34:00      M 2082-07-17 6 days 18:26:00   162.433333   \n",
       "3 2139-06-06 16:14:00      M 2100-05-31 2 days 20:34:00    68.566667   \n",
       "4 2160-11-02 02:06:00      M 2101-11-21 3 days 12:49:00    84.816667   \n",
       "\n",
       "   sepsis_count readmit_30  \n",
       "0           0.0        NaN  \n",
       "1           0.0        NaN  \n",
       "2           0.0        NaN  \n",
       "3           0.0        NaN  \n",
       "4           0.0        NaN  "
      ]
     },
     "execution_count": 106,
     "metadata": {},
     "output_type": "execute_result"
    }
   ],
   "source": [
    "adm_pat_sep.head()"
   ]
  },
  {
   "cell_type": "markdown",
   "metadata": {},
   "source": [
    "# STILL CANNOT GET READMITT 30 TO WORK"
   ]
  },
  {
   "cell_type": "code",
   "execution_count": null,
   "metadata": {},
   "outputs": [],
   "source": []
  }
 ],
 "metadata": {
  "kernelspec": {
   "display_name": "Python 3",
   "language": "python",
   "name": "python3"
  },
  "language_info": {
   "codemirror_mode": {
    "name": "ipython",
    "version": 3
   },
   "file_extension": ".py",
   "mimetype": "text/x-python",
   "name": "python",
   "nbconvert_exporter": "python",
   "pygments_lexer": "ipython3",
   "version": "3.6.6"
  }
 },
 "nbformat": 4,
 "nbformat_minor": 2
}
