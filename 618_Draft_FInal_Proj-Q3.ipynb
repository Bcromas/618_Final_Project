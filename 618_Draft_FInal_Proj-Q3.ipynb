{
 "cells": [
  {
   "cell_type": "markdown",
   "metadata": {},
   "source": [
    "## What relationships exist between type of admission, admission diagnosis, length of stay, age, gender, readmittance within 30 days, amount of bedside attention (e.g. patient is bathed), and occurence of sepsis?"
   ]
  },
  {
   "cell_type": "markdown",
   "metadata": {},
   "source": [
    "EDA: Pairplot with every pairing of the eight attributes mentioned above. The data from ADMISSIONS, PATIENTS, and CHARTEVENTS would have to be merged and derived attributes added. The data would be primarily segmented by ADMISSIONS record. Visualization: Seaborn."
   ]
  },
  {
   "cell_type": "code",
   "execution_count": 1,
   "metadata": {},
   "outputs": [],
   "source": [
    "# Imports for DFs & connecting to Postgres\n",
    "import pandas as pd\n",
    "import psycopg2"
   ]
  },
  {
   "cell_type": "markdown",
   "metadata": {},
   "source": [
    "- Xtype of admission -> admissions.admission_type\n",
    "- Xadmission diagnosis -> admissions.diagnosis\n",
    "- Xlength of stay -> admissions.dischtime minus admissions.admittime\n",
    "- Xreadmittance within 30 days -> admissions.admittime? (will have to calculate for each admission whether another admission took place within 30 days)\n",
    "- ?age -> patients.dob (will have to calculate age at time of admission)\n",
    "- Xgender -> patients.gender\n",
    "- !amount of bedside attention (e.g. patient is bathed) -> chartevents.itemid.label\n",
    "- Xoccurence of sepsis -> multiple"
   ]
  },
  {
   "cell_type": "markdown",
   "metadata": {},
   "source": [
    "### Pull in Admissions data"
   ]
  },
  {
   "cell_type": "code",
   "execution_count": 2,
   "metadata": {},
   "outputs": [
    {
     "name": "stdout",
     "output_type": "stream",
     "text": [
      "OK\n"
     ]
    }
   ],
   "source": [
    "# Connect to Postgres & get all records for ADMISSIONS\n",
    "try:\n",
    "    con = psycopg2.connect(\"host='localhost' dbname='mimic' user='postgres' password='postgres'\")\n",
    "    cur = con.cursor()\n",
    "    cur.execute (\"\"\"SELECT * FROM mimiciii.admissions;\"\"\")\n",
    "    con.commit()\n",
    "    print('OK')\n",
    "except Exception as e:\n",
    "    print(e)  "
   ]
  },
  {
   "cell_type": "code",
   "execution_count": 3,
   "metadata": {},
   "outputs": [],
   "source": [
    "# Store ADMISSIONS result in var\n",
    "admissions_all = cur.fetchall()"
   ]
  },
  {
   "cell_type": "code",
   "execution_count": 4,
   "metadata": {},
   "outputs": [],
   "source": [
    "# Convert ADMISSIONS result to DF\n",
    "admissions_df = pd.DataFrame(admissions_all, columns = ['row_id','subject_id', 'hadm_id', 'admittime', 'dischtime', 'deathtime',\n",
    " 'admission_type', 'admission_location', 'discharge_location',\n",
    " 'insurance', 'language', 'religion', 'marital_status', 'ethnicity',\n",
    " 'edregtime', 'edouttime', 'diagnosis', 'hospital_expire_flag',\n",
    " 'has_chartevents_data'])"
   ]
  },
  {
   "cell_type": "code",
   "execution_count": 5,
   "metadata": {},
   "outputs": [],
   "source": [
    "# Create shortened DF of relevant cols\n",
    "admissions_short = admissions_df[['subject_id', 'hadm_id', 'admission_type', 'diagnosis', 'dischtime', 'admittime', 'hospital_expire_flag']]"
   ]
  },
  {
   "cell_type": "markdown",
   "metadata": {},
   "source": [
    "### Pull in Patients data"
   ]
  },
  {
   "cell_type": "code",
   "execution_count": 6,
   "metadata": {},
   "outputs": [
    {
     "name": "stdout",
     "output_type": "stream",
     "text": [
      "OK\n"
     ]
    }
   ],
   "source": [
    "# Connect to Postgres & get all records for PATIENTS\n",
    "try:\n",
    "    con = psycopg2.connect(\"host='localhost' dbname='mimic' user='postgres' password='postgres'\")\n",
    "    cur = con.cursor()\n",
    "    cur.execute (\"\"\"SELECT * FROM mimiciii.patients;\"\"\")\n",
    "    con.commit()\n",
    "    print('OK')\n",
    "except Exception as e:\n",
    "    print(e)"
   ]
  },
  {
   "cell_type": "code",
   "execution_count": 7,
   "metadata": {},
   "outputs": [],
   "source": [
    "# Store PATIENTS result in var\n",
    "patients_all = cur.fetchall()"
   ]
  },
  {
   "cell_type": "code",
   "execution_count": 8,
   "metadata": {},
   "outputs": [],
   "source": [
    "# Convert PATIENTS result to DF\n",
    "patients_df = pd.DataFrame(patients_all, columns = ['row_id', 'subject_id', 'gender', 'dob', 'dod', 'dod_hosp', 'dod_ssn', 'expire_flag'])"
   ]
  },
  {
   "cell_type": "code",
   "execution_count": 9,
   "metadata": {},
   "outputs": [],
   "source": [
    "# Create shortened DF of relevant cols\n",
    "patients_short = patients_df[['subject_id', 'gender', 'dob']]"
   ]
  },
  {
   "cell_type": "markdown",
   "metadata": {},
   "source": [
    "### Merge Patient details onto Admissions"
   ]
  },
  {
   "cell_type": "code",
   "execution_count": 10,
   "metadata": {},
   "outputs": [],
   "source": [
    "# Merge shortened Patients DF onto shortened Admissions DF using 'subject_id'\n",
    "adm_pat_merge = admissions_short.merge(patients_short, how='left', on='subject_id')"
   ]
  },
  {
   "cell_type": "code",
   "execution_count": 11,
   "metadata": {},
   "outputs": [],
   "source": [
    "# Create new col to indicate length of stay, type is Timedelta\n",
    "adm_pat_merge['adm_los'] = adm_pat_merge['dischtime']-adm_pat_merge['admittime']"
   ]
  },
  {
   "cell_type": "code",
   "execution_count": 12,
   "metadata": {},
   "outputs": [],
   "source": [
    "# Add new col that converts timedelta to seconds & then to hours\n",
    "adm_pat_merge['adm_los_hrs'] = adm_pat_merge['adm_los'].apply(lambda x: ((x.seconds)+(x.days*86400))/3600)"
   ]
  },
  {
   "cell_type": "code",
   "execution_count": 13,
   "metadata": {},
   "outputs": [
    {
     "data": {
      "text/html": [
       "<div>\n",
       "<style scoped>\n",
       "    .dataframe tbody tr th:only-of-type {\n",
       "        vertical-align: middle;\n",
       "    }\n",
       "\n",
       "    .dataframe tbody tr th {\n",
       "        vertical-align: top;\n",
       "    }\n",
       "\n",
       "    .dataframe thead th {\n",
       "        text-align: right;\n",
       "    }\n",
       "</style>\n",
       "<table border=\"1\" class=\"dataframe\">\n",
       "  <thead>\n",
       "    <tr style=\"text-align: right;\">\n",
       "      <th></th>\n",
       "      <th>subject_id</th>\n",
       "      <th>hadm_id</th>\n",
       "      <th>admission_type</th>\n",
       "      <th>diagnosis</th>\n",
       "      <th>dischtime</th>\n",
       "      <th>admittime</th>\n",
       "      <th>hospital_expire_flag</th>\n",
       "      <th>gender</th>\n",
       "      <th>dob</th>\n",
       "      <th>adm_los</th>\n",
       "      <th>adm_los_hrs</th>\n",
       "    </tr>\n",
       "  </thead>\n",
       "  <tbody>\n",
       "    <tr>\n",
       "      <th>0</th>\n",
       "      <td>22</td>\n",
       "      <td>165315</td>\n",
       "      <td>EMERGENCY</td>\n",
       "      <td>BENZODIAZEPINE OVERDOSE</td>\n",
       "      <td>2196-04-10 15:54:00</td>\n",
       "      <td>2196-04-09 12:26:00</td>\n",
       "      <td>0</td>\n",
       "      <td>F</td>\n",
       "      <td>2131-05-07</td>\n",
       "      <td>1 days 03:28:00</td>\n",
       "      <td>27.466667</td>\n",
       "    </tr>\n",
       "    <tr>\n",
       "      <th>1</th>\n",
       "      <td>23</td>\n",
       "      <td>152223</td>\n",
       "      <td>ELECTIVE</td>\n",
       "      <td>CORONARY ARTERY DISEASE\\CORONARY ARTERY BYPASS...</td>\n",
       "      <td>2153-09-08 19:10:00</td>\n",
       "      <td>2153-09-03 07:15:00</td>\n",
       "      <td>0</td>\n",
       "      <td>M</td>\n",
       "      <td>2082-07-17</td>\n",
       "      <td>5 days 11:55:00</td>\n",
       "      <td>131.916667</td>\n",
       "    </tr>\n",
       "    <tr>\n",
       "      <th>2</th>\n",
       "      <td>23</td>\n",
       "      <td>124321</td>\n",
       "      <td>EMERGENCY</td>\n",
       "      <td>BRAIN MASS</td>\n",
       "      <td>2157-10-25 14:00:00</td>\n",
       "      <td>2157-10-18 19:34:00</td>\n",
       "      <td>0</td>\n",
       "      <td>M</td>\n",
       "      <td>2082-07-17</td>\n",
       "      <td>6 days 18:26:00</td>\n",
       "      <td>162.433333</td>\n",
       "    </tr>\n",
       "    <tr>\n",
       "      <th>3</th>\n",
       "      <td>24</td>\n",
       "      <td>161859</td>\n",
       "      <td>EMERGENCY</td>\n",
       "      <td>INTERIOR MYOCARDIAL INFARCTION</td>\n",
       "      <td>2139-06-09 12:48:00</td>\n",
       "      <td>2139-06-06 16:14:00</td>\n",
       "      <td>0</td>\n",
       "      <td>M</td>\n",
       "      <td>2100-05-31</td>\n",
       "      <td>2 days 20:34:00</td>\n",
       "      <td>68.566667</td>\n",
       "    </tr>\n",
       "    <tr>\n",
       "      <th>4</th>\n",
       "      <td>25</td>\n",
       "      <td>129635</td>\n",
       "      <td>EMERGENCY</td>\n",
       "      <td>ACUTE CORONARY SYNDROME</td>\n",
       "      <td>2160-11-05 14:55:00</td>\n",
       "      <td>2160-11-02 02:06:00</td>\n",
       "      <td>0</td>\n",
       "      <td>M</td>\n",
       "      <td>2101-11-21</td>\n",
       "      <td>3 days 12:49:00</td>\n",
       "      <td>84.816667</td>\n",
       "    </tr>\n",
       "  </tbody>\n",
       "</table>\n",
       "</div>"
      ],
      "text/plain": [
       "   subject_id  hadm_id admission_type  \\\n",
       "0          22   165315      EMERGENCY   \n",
       "1          23   152223       ELECTIVE   \n",
       "2          23   124321      EMERGENCY   \n",
       "3          24   161859      EMERGENCY   \n",
       "4          25   129635      EMERGENCY   \n",
       "\n",
       "                                           diagnosis           dischtime  \\\n",
       "0                            BENZODIAZEPINE OVERDOSE 2196-04-10 15:54:00   \n",
       "1  CORONARY ARTERY DISEASE\\CORONARY ARTERY BYPASS... 2153-09-08 19:10:00   \n",
       "2                                         BRAIN MASS 2157-10-25 14:00:00   \n",
       "3                     INTERIOR MYOCARDIAL INFARCTION 2139-06-09 12:48:00   \n",
       "4                            ACUTE CORONARY SYNDROME 2160-11-05 14:55:00   \n",
       "\n",
       "            admittime  hospital_expire_flag gender        dob         adm_los  \\\n",
       "0 2196-04-09 12:26:00                     0      F 2131-05-07 1 days 03:28:00   \n",
       "1 2153-09-03 07:15:00                     0      M 2082-07-17 5 days 11:55:00   \n",
       "2 2157-10-18 19:34:00                     0      M 2082-07-17 6 days 18:26:00   \n",
       "3 2139-06-06 16:14:00                     0      M 2100-05-31 2 days 20:34:00   \n",
       "4 2160-11-02 02:06:00                     0      M 2101-11-21 3 days 12:49:00   \n",
       "\n",
       "   adm_los_hrs  \n",
       "0    27.466667  \n",
       "1   131.916667  \n",
       "2   162.433333  \n",
       "3    68.566667  \n",
       "4    84.816667  "
      ]
     },
     "execution_count": 13,
     "metadata": {},
     "output_type": "execute_result"
    }
   ],
   "source": [
    "adm_pat_merge.head()"
   ]
  },
  {
   "cell_type": "code",
   "execution_count": 14,
   "metadata": {},
   "outputs": [],
   "source": [
    "# adm_pat_merge.drop('adm_los_hrs'<0)\n",
    "# df = df.drop(df[df.score < 50].index)\n",
    "# adm_pat_merge = adm_pat_merge.drop(adm_pat_merge[adm_pat_merge['adm_los_hrs'] < 0].index, inplace= True)"
   ]
  },
  {
   "cell_type": "markdown",
   "metadata": {},
   "source": [
    "### Pull ICD9 codes for Sepsis"
   ]
  },
  {
   "cell_type": "code",
   "execution_count": 15,
   "metadata": {},
   "outputs": [
    {
     "name": "stdout",
     "output_type": "stream",
     "text": [
      "OK\n"
     ]
    }
   ],
   "source": [
    "# Connect to Postgres & get all d_icd_diagnoses where short or long title indicates 'sepsis' or 'septicemia'\n",
    "try:\n",
    "    con = psycopg2.connect(\"host='localhost' dbname='mimic' user='postgres' password='postgres'\")\n",
    "    cur = con.cursor()\n",
    "    cur.execute (\"\"\"SELECT icd9_code, short_title, long_title\n",
    "\tFROM mimiciii.d_icd_diagnoses\n",
    "\tWHERE long_title LIKE ANY(ARRAY['Sepsi%', 'Septi%','sepsi%', 'septi%', 'Severe sepsis', 'severe sepsis', 'Puerperal sep%', 'puerperal sep%']) OR\n",
    "\tshort_title LIKE ANY(ARRAY['Sepsi%', 'Septi%','sepsi%', 'septi%', 'Severe sepsis', 'severe sepsis', 'Puerperal sep%', 'puerperal sep%']);\"\"\")\n",
    "    con.commit()\n",
    "    print('OK')\n",
    "except Exception as e:\n",
    "    print(e)  "
   ]
  },
  {
   "cell_type": "code",
   "execution_count": 16,
   "metadata": {},
   "outputs": [],
   "source": [
    "# Store ICD9_CODE result in var\n",
    "sepsis_all = cur.fetchall()"
   ]
  },
  {
   "cell_type": "code",
   "execution_count": 17,
   "metadata": {},
   "outputs": [],
   "source": [
    "# Convert ICD9_CODE result to DF\n",
    "sepsis_df = pd.DataFrame(sepsis_all, columns = ['icd9_code', 'short_title', 'long_title'])"
   ]
  },
  {
   "cell_type": "code",
   "execution_count": 18,
   "metadata": {},
   "outputs": [],
   "source": [
    "# Get list of relevant ICD9 codes, just here for reference since it's pasted below\n",
    "sepsis_codes_list = sepsis_df['icd9_code'].to_list()\n",
    "# sepsis_codes_list"
   ]
  },
  {
   "cell_type": "markdown",
   "metadata": {},
   "source": [
    "### Pull Diagnoses ICD data to find admissions with sepsis"
   ]
  },
  {
   "cell_type": "code",
   "execution_count": 19,
   "metadata": {},
   "outputs": [
    {
     "name": "stdout",
     "output_type": "stream",
     "text": [
      "OK\n"
     ]
    }
   ],
   "source": [
    "# Connect to Postgres & get all admissions where a sepsis code was used\n",
    "try:\n",
    "    con = psycopg2.connect(\"host='localhost' dbname='mimic' user='postgres' password='postgres'\")\n",
    "    cur = con.cursor()\n",
    "    cur.execute (\"\"\"SELECT hadm_id, icd9_code\n",
    "\tFROM mimiciii.diagnoses_icd\n",
    "\tWHERE icd9_code = ANY(ARRAY['0383',\n",
    " '03840',\n",
    " '03841',\n",
    " '03842',\n",
    " '03843',\n",
    " '03844',\n",
    " '0388',\n",
    " '0389',\n",
    " '0202',\n",
    " '449',\n",
    " '41512',\n",
    " '42292',\n",
    " '65930',\n",
    " '65931',\n",
    " '65933',\n",
    " '77181',\n",
    " '99591',\n",
    " '99592',\n",
    " '78552',\n",
    " '67020',\n",
    " '67022',\n",
    " '67024',\n",
    " '67030',\n",
    " '67032',\n",
    " '67034']);\"\"\")\n",
    "    con.commit()\n",
    "    print('OK')\n",
    "except Exception as e:\n",
    "    print(e)"
   ]
  },
  {
   "cell_type": "code",
   "execution_count": 20,
   "metadata": {},
   "outputs": [],
   "source": [
    "# Store DIAGNOSES_ICD result in var\n",
    "adm_sepsis_all = cur.fetchall()"
   ]
  },
  {
   "cell_type": "code",
   "execution_count": 21,
   "metadata": {},
   "outputs": [],
   "source": [
    "# Convert DIAGNOSES_ICD result to DF\n",
    "adm_sepsis_df = pd.DataFrame(adm_sepsis_all, columns = ['hadm_id', 'icd9_code'])"
   ]
  },
  {
   "cell_type": "code",
   "execution_count": 22,
   "metadata": {},
   "outputs": [],
   "source": [
    "# Create DF that contains every admission where sepsis was diagnosed & tally number of those diagnoses for the given admission\n",
    "adm_sepsis_cnt = adm_sepsis_df.groupby(by='hadm_id').agg({'icd9_code':'count'})\n",
    "# Rename column to 'sepsis_count'\n",
    "adm_sepsis_cnt.rename(columns={'icd9_code':'sepsis_count'}, inplace=True)"
   ]
  },
  {
   "cell_type": "markdown",
   "metadata": {},
   "source": [
    "### Merge count of sepsis into admission-patient DF"
   ]
  },
  {
   "cell_type": "code",
   "execution_count": 23,
   "metadata": {},
   "outputs": [],
   "source": [
    "# Create new merged DF with admissions, patient, & sepsis count data\n",
    "adm_pat_sep = adm_pat_merge.merge(adm_sepsis_cnt, how='left', on='hadm_id')\n",
    "# Convert NaNs in 'sepsis_count' to zeroes\n",
    "adm_pat_sep['sepsis_count'].fillna(value=0, inplace=True)"
   ]
  },
  {
   "cell_type": "code",
   "execution_count": 24,
   "metadata": {},
   "outputs": [],
   "source": [
    "# Add col converting gender to 0/1\n",
    "adm_pat_sep['gender_binary'] = adm_pat_sep['gender'].apply(lambda x: 1 if x=='M' else 0)"
   ]
  },
  {
   "cell_type": "code",
   "execution_count": 25,
   "metadata": {},
   "outputs": [],
   "source": [
    "# Add col flagging admission type = emergency\n",
    "adm_pat_sep['emergency_flag'] = adm_pat_sep['admission_type'].apply(lambda x: 1 if x == 'EMERGENCY' else 0)"
   ]
  },
  {
   "cell_type": "code",
   "execution_count": 26,
   "metadata": {},
   "outputs": [],
   "source": [
    "# Add col flagging admission type = elective\n",
    "adm_pat_sep['elective_flag'] = adm_pat_sep['admission_type'].apply(lambda x: 1 if x == 'ELECTIVE' else 0)"
   ]
  },
  {
   "cell_type": "markdown",
   "metadata": {},
   "source": [
    "### Pull D_ITEMS data related to \"bedside patient care\""
   ]
  },
  {
   "cell_type": "code",
   "execution_count": 27,
   "metadata": {},
   "outputs": [
    {
     "name": "stdout",
     "output_type": "stream",
     "text": [
      "OK\n"
     ]
    }
   ],
   "source": [
    "# Connect to Postgres & get all d_items where label indicates \"bedside patient care\"\n",
    "try:\n",
    "    con = psycopg2.connect(\"host='localhost' dbname='mimic' user='postgres' password='postgres'\")\n",
    "    cur = con.cursor()\n",
    "    cur.execute (\"\"\"SELECT itemid, label\n",
    "\tFROM mimiciii.d_items\n",
    "\tWHERE label LIKE ANY(ARRAY['Dressing','Dressing Applied%','Dressing Change','Dressing change','catheter reposi%',\n",
    "    'Catheter','bath%','show%','shav%', 'teeth%', 'bedbath', 'bed/bath%','activi%', 'Food%']);\"\"\")\n",
    "    con.commit()\n",
    "    print('OK')\n",
    "except Exception as e:\n",
    "    print(e)  "
   ]
  },
  {
   "cell_type": "code",
   "execution_count": 28,
   "metadata": {},
   "outputs": [],
   "source": [
    "# Store D_ITEMS result in var\n",
    "items_care_all = cur.fetchall()"
   ]
  },
  {
   "cell_type": "code",
   "execution_count": 29,
   "metadata": {},
   "outputs": [],
   "source": [
    "# Convert D_ITEMS result to DF\n",
    "items_care_df = pd.DataFrame(items_care_all, columns = ['itemid', 'label'])"
   ]
  },
  {
   "cell_type": "code",
   "execution_count": 30,
   "metadata": {},
   "outputs": [],
   "source": [
    "# Get list of relevant itemids, just here for reference since it's pasted below\n",
    "items_care_list = items_care_df['itemid'].to_list()"
   ]
  },
  {
   "cell_type": "markdown",
   "metadata": {},
   "source": [
    "### Get all \"bedside patient care\" entries from CHARTEVENTS"
   ]
  },
  {
   "cell_type": "code",
   "execution_count": 31,
   "metadata": {},
   "outputs": [
    {
     "name": "stdout",
     "output_type": "stream",
     "text": [
      "OK\n"
     ]
    }
   ],
   "source": [
    "# Connect to Postgres & get all chartevents where itemid matches those from \"bedside patient care\" list\n",
    "try:\n",
    "    con = psycopg2.connect(\"host='localhost' dbname='mimic' user='postgres' password='postgres'\")\n",
    "    cur = con.cursor()\n",
    "    cur.execute (\"\"\"SELECT subject_id, hadm_id, icustay_id, itemid\n",
    "\tFROM mimiciii.chartevents\n",
    "\tWHERE itemid = ANY(ARRAY[1053,\n",
    " 1063,\n",
    " 1066,\n",
    " 1202,\n",
    " 5548,\n",
    " 7896,\n",
    " 4605,\n",
    " 1382,\n",
    " 3058,\n",
    " 5678,\n",
    " 3013,\n",
    " 3014,\n",
    " 6269,\n",
    " 7652,\n",
    " 44555,\n",
    " 228482,\n",
    " 227955]);\"\"\")\n",
    "    con.commit()\n",
    "    print('OK')\n",
    "except Exception as e:\n",
    "    print(e) "
   ]
  },
  {
   "cell_type": "code",
   "execution_count": 32,
   "metadata": {},
   "outputs": [],
   "source": [
    "# Store CHARTEVENTS result in var\n",
    "chart_care_all = cur.fetchall()"
   ]
  },
  {
   "cell_type": "code",
   "execution_count": 33,
   "metadata": {},
   "outputs": [
    {
     "data": {
      "text/plain": [
       "[]"
      ]
     },
     "execution_count": 33,
     "metadata": {},
     "output_type": "execute_result"
    }
   ],
   "source": [
    "chart_care_all"
   ]
  },
  {
   "cell_type": "markdown",
   "metadata": {},
   "source": [
    "### Not finding any \"bedside patient care\" entries in Chartevents, strange."
   ]
  },
  {
   "cell_type": "markdown",
   "metadata": {},
   "source": [
    "### Get count of chartevents per admission"
   ]
  },
  {
   "cell_type": "code",
   "execution_count": 34,
   "metadata": {},
   "outputs": [
    {
     "name": "stdout",
     "output_type": "stream",
     "text": [
      "OK\n"
     ]
    }
   ],
   "source": [
    "# Connect to Postgres & get counts of CHARTEVENTS for each admission record\n",
    "try:\n",
    "    con = psycopg2.connect(\"host='localhost' dbname='mimic' user='postgres' password='postgres'\")\n",
    "    cur = con.cursor()\n",
    "    cur.execute (\"\"\"SELECT hadm_id,  count(hadm_id)\n",
    "\tFROM mimiciii.chartevents\n",
    "\tGROUP BY chartevents.hadm_id;\"\"\")\n",
    "    con.commit()\n",
    "    print('OK')\n",
    "except Exception as e:\n",
    "    print(e)"
   ]
  },
  {
   "cell_type": "code",
   "execution_count": 35,
   "metadata": {},
   "outputs": [],
   "source": [
    "# Store CHARTEVENTS result in var\n",
    "chartevents_count_all = cur.fetchall()"
   ]
  },
  {
   "cell_type": "code",
   "execution_count": 36,
   "metadata": {},
   "outputs": [],
   "source": [
    "# Convert CHARTEVENTS result to DF\n",
    "chartevents_count_df = pd.DataFrame(chartevents_count_all, columns = ['hadm_id', 'chartevents_count'])"
   ]
  },
  {
   "cell_type": "code",
   "execution_count": 37,
   "metadata": {},
   "outputs": [],
   "source": [
    "# Merge chartevents DF into existing DF, create new DF\n",
    "adm_pat_sep_char = adm_pat_sep.merge(chartevents_count_df, how='left', on='hadm_id')\n",
    "adm_pat_sep_char['chartevents_count'].fillna(value=0, inplace=True)"
   ]
  },
  {
   "cell_type": "markdown",
   "metadata": {},
   "source": [
    "### Get 30 day readmits"
   ]
  },
  {
   "cell_type": "code",
   "execution_count": 38,
   "metadata": {},
   "outputs": [
    {
     "name": "stdout",
     "output_type": "stream",
     "text": [
      "OK\n"
     ]
    }
   ],
   "source": [
    "# Connect to Postgres & get all records for ADMISSIONS with just subject_id & admittime\n",
    "try:\n",
    "    con = psycopg2.connect(\"host='localhost' dbname='mimic' user='postgres' password='postgres'\")\n",
    "    cur = con.cursor()\n",
    "    cur.execute (\"\"\"SELECT subject_id, admittime FROM mimiciii.admissions;\"\"\")\n",
    "    con.commit()\n",
    "    print('OK')\n",
    "except Exception as e:\n",
    "    print(e) "
   ]
  },
  {
   "cell_type": "code",
   "execution_count": 39,
   "metadata": {},
   "outputs": [],
   "source": [
    "# Store ADMISSIONS result in var\n",
    "adm_subj_all = cur.fetchall()"
   ]
  },
  {
   "cell_type": "code",
   "execution_count": 40,
   "metadata": {},
   "outputs": [],
   "source": [
    "# Create dict where key is subject_id and value is a list of all their admittimes\n",
    "from collections import defaultdict \n",
    "subj_admitt_dict = defaultdict(list)\n",
    "for k, v in adm_subj_all:\n",
    "    subj_admitt_dict[k].append(v)"
   ]
  },
  {
   "cell_type": "code",
   "execution_count": 41,
   "metadata": {},
   "outputs": [
    {
     "name": "stdout",
     "output_type": "stream",
     "text": [
      "OK\n"
     ]
    }
   ],
   "source": [
    "# Connect to Postgres & get all records for ADMISSIONS\n",
    "try:\n",
    "    con = psycopg2.connect(\"host='localhost' dbname='mimic' user='postgres' password='postgres'\")\n",
    "    cur = con.cursor()\n",
    "    cur.execute (\"\"\"SELECT subject_id, hadm_id, admittime FROM mimiciii.admissions;\"\"\")\n",
    "    con.commit()\n",
    "    print('OK')\n",
    "except Exception as e:\n",
    "    print(e) "
   ]
  },
  {
   "cell_type": "code",
   "execution_count": 42,
   "metadata": {},
   "outputs": [],
   "source": [
    "# Store ADMISSIONS result in var\n",
    "admissions_id_all = cur.fetchall()"
   ]
  },
  {
   "cell_type": "code",
   "execution_count": 43,
   "metadata": {},
   "outputs": [],
   "source": [
    "import datetime"
   ]
  },
  {
   "cell_type": "code",
   "execution_count": 44,
   "metadata": {},
   "outputs": [],
   "source": [
    "#Pythonic way of getting 30 day readmits\n",
    "hadm_readmits = []\n",
    "for i in admissions_id_all:\n",
    "    subject_id = i[0]\n",
    "    hadm_id = i[1]\n",
    "    admittime = i[2]\n",
    "    \n",
    "    other_admits = subj_admitt_dict[subject_id]\n",
    "    \n",
    "    thirty_days = datetime.timedelta(days=30)\n",
    "    one_min = datetime.timedelta(minutes=1)\n",
    "    \n",
    "    if len(other_admits) > 1:\n",
    "        for j in other_admits:\n",
    "            diff = j - admittime\n",
    "            if diff >= one_min and diff <= thirty_days:\n",
    "                hadm_readmits.append(hadm_id)"
   ]
  },
  {
   "cell_type": "code",
   "execution_count": 45,
   "metadata": {},
   "outputs": [],
   "source": [
    "# Convert 30 day readmits to DF\n",
    "hadm_readmits_df = pd.DataFrame(hadm_readmits, columns = ['hadm_id'])\n",
    "hadm_readmits_df['readmit_30'] = 1"
   ]
  },
  {
   "cell_type": "code",
   "execution_count": 46,
   "metadata": {},
   "outputs": [],
   "source": [
    "# Merge 30 day readmits to existing DF & create new DF for pair plot\n",
    "pairplot_df = adm_pat_sep_char.merge(hadm_readmits_df, how='left', on='hadm_id')\n",
    "pairplot_df['readmit_30'].fillna(value=0, inplace=True)"
   ]
  },
  {
   "cell_type": "code",
   "execution_count": 47,
   "metadata": {},
   "outputs": [
    {
     "data": {
      "text/html": [
       "<div>\n",
       "<style scoped>\n",
       "    .dataframe tbody tr th:only-of-type {\n",
       "        vertical-align: middle;\n",
       "    }\n",
       "\n",
       "    .dataframe tbody tr th {\n",
       "        vertical-align: top;\n",
       "    }\n",
       "\n",
       "    .dataframe thead th {\n",
       "        text-align: right;\n",
       "    }\n",
       "</style>\n",
       "<table border=\"1\" class=\"dataframe\">\n",
       "  <thead>\n",
       "    <tr style=\"text-align: right;\">\n",
       "      <th></th>\n",
       "      <th>admission_type</th>\n",
       "      <th>hospital_expire_flag</th>\n",
       "      <th>adm_los_hrs</th>\n",
       "      <th>sepsis_count</th>\n",
       "      <th>gender_binary</th>\n",
       "      <th>emergency_flag</th>\n",
       "      <th>elective_flag</th>\n",
       "      <th>chartevents_count</th>\n",
       "      <th>readmit_30</th>\n",
       "    </tr>\n",
       "  </thead>\n",
       "  <tbody>\n",
       "    <tr>\n",
       "      <th>0</th>\n",
       "      <td>EMERGENCY</td>\n",
       "      <td>0</td>\n",
       "      <td>27.466667</td>\n",
       "      <td>0.0</td>\n",
       "      <td>0</td>\n",
       "      <td>1</td>\n",
       "      <td>0</td>\n",
       "      <td>0.0</td>\n",
       "      <td>0.0</td>\n",
       "    </tr>\n",
       "    <tr>\n",
       "      <th>1</th>\n",
       "      <td>ELECTIVE</td>\n",
       "      <td>0</td>\n",
       "      <td>131.916667</td>\n",
       "      <td>0.0</td>\n",
       "      <td>1</td>\n",
       "      <td>0</td>\n",
       "      <td>1</td>\n",
       "      <td>0.0</td>\n",
       "      <td>0.0</td>\n",
       "    </tr>\n",
       "    <tr>\n",
       "      <th>2</th>\n",
       "      <td>EMERGENCY</td>\n",
       "      <td>0</td>\n",
       "      <td>162.433333</td>\n",
       "      <td>0.0</td>\n",
       "      <td>1</td>\n",
       "      <td>1</td>\n",
       "      <td>0</td>\n",
       "      <td>640.0</td>\n",
       "      <td>0.0</td>\n",
       "    </tr>\n",
       "    <tr>\n",
       "      <th>3</th>\n",
       "      <td>EMERGENCY</td>\n",
       "      <td>0</td>\n",
       "      <td>68.566667</td>\n",
       "      <td>0.0</td>\n",
       "      <td>1</td>\n",
       "      <td>1</td>\n",
       "      <td>0</td>\n",
       "      <td>0.0</td>\n",
       "      <td>0.0</td>\n",
       "    </tr>\n",
       "    <tr>\n",
       "      <th>4</th>\n",
       "      <td>EMERGENCY</td>\n",
       "      <td>0</td>\n",
       "      <td>84.816667</td>\n",
       "      <td>0.0</td>\n",
       "      <td>1</td>\n",
       "      <td>1</td>\n",
       "      <td>0</td>\n",
       "      <td>0.0</td>\n",
       "      <td>0.0</td>\n",
       "    </tr>\n",
       "  </tbody>\n",
       "</table>\n",
       "</div>"
      ],
      "text/plain": [
       "  admission_type  hospital_expire_flag  adm_los_hrs  sepsis_count  \\\n",
       "0      EMERGENCY                     0    27.466667           0.0   \n",
       "1       ELECTIVE                     0   131.916667           0.0   \n",
       "2      EMERGENCY                     0   162.433333           0.0   \n",
       "3      EMERGENCY                     0    68.566667           0.0   \n",
       "4      EMERGENCY                     0    84.816667           0.0   \n",
       "\n",
       "   gender_binary  emergency_flag  elective_flag  chartevents_count  readmit_30  \n",
       "0              0               1              0                0.0         0.0  \n",
       "1              1               0              1                0.0         0.0  \n",
       "2              1               1              0              640.0         0.0  \n",
       "3              1               1              0                0.0         0.0  \n",
       "4              1               1              0                0.0         0.0  "
      ]
     },
     "execution_count": 47,
     "metadata": {},
     "output_type": "execute_result"
    }
   ],
   "source": [
    "pairplot_df.drop(columns=['subject_id', 'hadm_id', 'diagnosis', 'admittime', 'dischtime', 'gender', 'dob', 'adm_los'], inplace= True)\n",
    "pairplot_df.head()"
   ]
  },
  {
   "cell_type": "code",
   "execution_count": 48,
   "metadata": {},
   "outputs": [],
   "source": [
    "bry_test = pairplot_df[pairplot_df['adm_los_hrs']<0]"
   ]
  },
  {
   "cell_type": "code",
   "execution_count": 49,
   "metadata": {},
   "outputs": [
    {
     "data": {
      "text/plain": [
       "98"
      ]
     },
     "execution_count": 49,
     "metadata": {},
     "output_type": "execute_result"
    }
   ],
   "source": [
    "len(bry_test)"
   ]
  },
  {
   "cell_type": "code",
   "execution_count": 50,
   "metadata": {},
   "outputs": [],
   "source": [
    "pairplot_df_test = pairplot_df[['hospital_expire_flag', 'adm_los_hrs', 'sepsis_count', 'gender_binary', 'emergency_flag', 'elective_flag', 'chartevents_count', 'readmit_30']]"
   ]
  },
  {
   "cell_type": "markdown",
   "metadata": {},
   "source": [
    "### Create pairplot of vars"
   ]
  },
  {
   "cell_type": "code",
   "execution_count": 51,
   "metadata": {},
   "outputs": [],
   "source": [
    "import seaborn as sns"
   ]
  },
  {
   "cell_type": "code",
   "execution_count": 52,
   "metadata": {},
   "outputs": [
    {
     "name": "stderr",
     "output_type": "stream",
     "text": [
      "C:\\Users\\bcrom\\Anaconda3\\lib\\site-packages\\scipy\\stats\\stats.py:1713: FutureWarning: Using a non-tuple sequence for multidimensional indexing is deprecated; use `arr[tuple(seq)]` instead of `arr[seq]`. In the future this will be interpreted as an array index, `arr[np.array(seq)]`, which will result either in an error or a different result.\n",
      "  return np.add.reduce(sorted[indexer] * weights, axis=axis) / sumval\n"
     ]
    },
    {
     "data": {
      "image/png": "[encoded data removed]",
      "text/plain": [
       "<Figure size 1440x1440 with 72 Axes>"
      ]
     },
     "metadata": {
      "needs_background": "light"
     },
     "output_type": "display_data"
    }
   ],
   "source": [
    "# Generate pair plot\n",
    "# sns.pairplot(pairplot_df, kind=\"reg\", hue=\"admission_type\");\n",
    "sns.pairplot(pairplot_df_test, kind=\"reg\");"
   ]
  },
  {
   "cell_type": "code",
   "execution_count": null,
   "metadata": {},
   "outputs": [],
   "source": []
  }
 ],
 "metadata": {
  "kernelspec": {
   "display_name": "Python 3",
   "language": "python",
   "name": "python3"
  },
  "language_info": {
   "codemirror_mode": {
    "name": "ipython",
    "version": 3
   },
   "file_extension": ".py",
   "mimetype": "text/x-python",
   "name": "python",
   "nbconvert_exporter": "python",
   "pygments_lexer": "ipython3",
   "version": "3.6.6"
  }
 },
 "nbformat": 4,
 "nbformat_minor": 2
}
